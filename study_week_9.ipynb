{
 "cells": [
  {
   "cell_type": "markdown",
   "id": "2db2b436",
   "metadata": {},
   "source": [
    "# Q11. 뱀"
   ]
  },
  {
   "cell_type": "markdown",
   "id": "2b5f1e64",
   "metadata": {},
   "source": [
    "- 맵이 나오는 문제는 반드시 2차원 리스트에 맵 정보를 넣어줘야한다.\n",
    "- 방향도 지정해줘야하고, 방향전환하는 함수도 만들어줘야한다."
   ]
  },
  {
   "cell_type": "code",
   "execution_count": 2,
   "id": "f49822c1",
   "metadata": {},
   "outputs": [
    {
     "name": "stdout",
     "output_type": "stream",
     "text": [
      "10\n",
      "5\n",
      "1 5\n",
      "1 3\n",
      "1 2\n",
      "1 6\n",
      "1 7\n",
      "4\n",
      "8 d\n",
      "10 D\n",
      "11 D\n",
      "13 L\n",
      "13\n"
     ]
    }
   ],
   "source": [
    "n = int(input())\n",
    "k = int(input())\n",
    "data = [[0]*(n+1) for _ in range(n+1)] #맵 정보\n",
    "info = []\n",
    "\n",
    "#맵 정보(사과 있는 곳은 1로 표시)\n",
    "for _ in range(k):\n",
    "    a, b = map(int, input().split())\n",
    "    data[a][b]=1\n",
    "    \n",
    "#방향 회전 정보 입력\n",
    "l = int(input())\n",
    "for _ in range(l):\n",
    "    x, c = input().split()\n",
    "    info.append((int(x), c))\n",
    "\n",
    "#동, 남, 서,북 방향 정의\n",
    "dx = [0, 1, 0, -1]\n",
    "dy = [1, 0, -1, 0]\n",
    "\n",
    "def turn(direction, c):\n",
    "    if c == \"L\":\n",
    "        direction = (direction-1)%4\n",
    "    else:\n",
    "        direction = (direction +1)%4\n",
    "    return direction\n",
    "\n",
    "def simulate():\n",
    "    x, y = 1,1\n",
    "    data[x][y]= 2 #뱀이 존재하는 위치는 2로 표시\n",
    "    direction = 0 #처음에는 동쪽을 보고있음\n",
    "    time = 0 #시작한 뒤에 지난 '초' 시간\n",
    "    index =0 #다음에 회전할 정보\n",
    "    q = [(x,y)] #뱀이 차지하고 있는 위치 정보(꼬리가 앞쪽)\n",
    "    while True:\n",
    "        nx = x+dx[direction]\n",
    "        ny = y+dy[direction]\n",
    "        #맵 범위 안에 있고, 뱀의 몸통이 없는 위치라면\n",
    "        if 1 <= nx and nx <= n and 1 <= ny and ny <= n and data[nx][ny]!=2:\n",
    "            #사과가 없다면 이동 후에 꼬리 제거\n",
    "            if data[nx][ny] == 0:\n",
    "                data[nx][ny]=2\n",
    "                q.append((nx,ny))\n",
    "                px, py = q.pop(0)\n",
    "                data[px][py] = 0\n",
    "            #사과가 있다면 이동 후에 꼬리 그대로 두기\n",
    "            if data[nx][ny] == 1:\n",
    "                data[nx][ny] =2\n",
    "                q.append((nx,ny))\n",
    "        #벽이나 뱀의 몸통과 부딪혔다면\n",
    "        else:\n",
    "            time += 1\n",
    "            break\n",
    "        x, y  = nx, ny #다음 위치로 머리를 이동\n",
    "        time += 1\n",
    "        if index < l and time == info[index][0]: #회전할 시간인 경우 회전\n",
    "            direction = turn(direction, info[index][1])\n",
    "            index += 1\n",
    "    return time\n",
    "    \n",
    "print(simulate())\n",
    "\n"
   ]
  },
  {
   "cell_type": "markdown",
   "id": "1466119a",
   "metadata": {},
   "source": [
    "# Q12. 기둥과 보 설치 "
   ]
  },
  {
   "cell_type": "code",
   "execution_count": 4,
   "id": "d0426763",
   "metadata": {},
   "outputs": [],
   "source": [
    "# 현재 설치된 구조물이 '가능한' 구조물인지 확인하는 함수\n",
    "def possible(answer):\n",
    "    for x, y, stuff in answer:\n",
    "        if stuff == 0: #설치된 것이 '기둥'인 경우\n",
    "            #'바닥 위' 혹은 '보의 한쪽 끝부분 위' 혹은 '다른 기둥 위'라면 정상\n",
    "            if y == 0 or [x-1, y, 1] in answer or [x, y, 1] in answer or [x, y-1, 0] in answer:\n",
    "                 continue\n",
    "            return False\n",
    "        elif stuff == 1: #설치된 것이 '보'인 경우\n",
    "            #'한쪽 끝부분이 기둥 위' 혹은 '양쪽 끝부분이 다른 보와 동시에 연결'이라면 정상\n",
    "            if [x, y-1, 0] in answer or [x+1, y-1, 0] in answer or ([x-1, y, 1] in answer and [x+1, y, 1] in answer):\n",
    "                continue\n",
    "            return False\n",
    "    return True\n",
    "\n",
    "\n",
    "def solution(n, build_frame):\n",
    "    answer = []\n",
    "    for frame in build_frame: #작업(frame)의 개수는 최대 1000개\n",
    "        x, y, stuff, operate = frame\n",
    "        if operate == 0:\n",
    "            answer.remove([x, y, stuff]) #일단 삭제를 해본 뒤에\n",
    "            if not possible(answer):\n",
    "                answer.append([x, y, stuff]) #가능한 구조물이 아니라면 다시 설치\n",
    "        if operate == 1:\n",
    "            answer.append([x, y, stuff])\n",
    "            if not possible(answer): #가능한 구조물인지 확인\n",
    "                answer.remove([x, y, stuff])\n",
    "    return sorted(answer) #sorted 함수쓰면 리스트안에서 sort가 됨\n"
   ]
  },
  {
   "cell_type": "code",
   "execution_count": 5,
   "id": "8cee8703",
   "metadata": {},
   "outputs": [
    {
     "data": {
      "text/plain": [
       "[[1, 0, 0],\n",
       " [1, 1, 1],\n",
       " [2, 1, 0],\n",
       " [2, 2, 1],\n",
       " [3, 2, 1],\n",
       " [4, 2, 1],\n",
       " [5, 0, 0],\n",
       " [5, 1, 0]]"
      ]
     },
     "execution_count": 5,
     "metadata": {},
     "output_type": "execute_result"
    }
   ],
   "source": [
    "n = 5\n",
    "build_frame = [[1,0,0,1], [1,1,1,1], [2,1,0,1],[2,2,1,1],[5,0,0,1],[5,1,0,1],[4,2,1,1],[3,2,1,1]]\n",
    "solution(n, build_frame)"
   ]
  },
  {
   "cell_type": "markdown",
   "id": "d7c763d8",
   "metadata": {},
   "source": [
    "# Q13. 치킨 배달"
   ]
  },
  {
   "cell_type": "markdown",
   "id": "2cce784d",
   "metadata": {},
   "source": [
    "- combinations 함수 사용(from itertools import combinations)"
   ]
  },
  {
   "cell_type": "code",
   "execution_count": 47,
   "id": "56dec888",
   "metadata": {},
   "outputs": [
    {
     "name": "stdout",
     "output_type": "stream",
     "text": [
      "5 2\n",
      "0 2 0 1 0\n",
      "1 0 1 0 0\n",
      "0 0 0 0 0\n",
      "2 0 0 1 1\n",
      "2 2 0 1 2\n",
      "10\n"
     ]
    }
   ],
   "source": [
    "n, m = map(int, input().split())\n",
    "\n",
    "# 집, 치킨집 위치 찾기 \n",
    "home=[]\n",
    "chicken =[]\n",
    "for i in range(n):\n",
    "    data[i]=list(map(int, input().split()))\n",
    "    for j in range(n):\n",
    "        if data[i][j]==1:\n",
    "            home.append([i,j])\n",
    "        if data[i][j]==2:\n",
    "            chicken.append([i,j])\n",
    "\n",
    "#치킨집 중 3개 고르는 경우\n",
    "from itertools import combinations\n",
    "\n",
    "candidates = list(combinations(chicken,m))\n",
    "\n",
    "#집, 치킨집 사이의 치킨 거리 함수\n",
    "def chicken_dist(chicken):\n",
    "    dist=[[0]*(len(chicken)) for _ in range(len(home))]\n",
    "    for i in range(len(home)):\n",
    "        for j in range(len(chicken)):\n",
    "            dist[i][j] = abs(home[i][0]-chicken[j][0]) + (abs(home[i][1]-chicken[j][1]))\n",
    "\n",
    "    min_dist = 0\n",
    "    for i in range(len(home)):\n",
    "        min_dist += min(dist[i])\n",
    "    \n",
    "    return min_dist\n",
    "\n",
    "\n",
    "#치킨 거리의 합의 최소를 찾아 출력\n",
    "result = 1e9\n",
    "for candidate in candidates:\n",
    "    result = min(result, chicken_dist(candidate))\n",
    "\n",
    "print(result)"
   ]
  }
 ],
 "metadata": {
  "kernelspec": {
   "display_name": "Python 3 (ipykernel)",
   "language": "python",
   "name": "python3"
  },
  "language_info": {
   "codemirror_mode": {
    "name": "ipython",
    "version": 3
   },
   "file_extension": ".py",
   "mimetype": "text/x-python",
   "name": "python",
   "nbconvert_exporter": "python",
   "pygments_lexer": "ipython3",
   "version": "3.8.12"
  }
 },
 "nbformat": 4,
 "nbformat_minor": 5
}
