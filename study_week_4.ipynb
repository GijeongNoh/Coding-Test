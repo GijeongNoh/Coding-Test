{
 "cells": [
  {
   "cell_type": "markdown",
   "id": "3d17327e",
   "metadata": {},
   "source": [
    "# 최단 경로"
   ]
  },
  {
   "cell_type": "markdown",
   "id": "11d6648f",
   "metadata": {},
   "source": [
    "최단 경로 문제는 보통 그래프를 이용해 표현하는데 각 지점은 그래프에서 '노드'로 표현되고, 지점 간 연결된 도로는 그래프에서 '간선'으로 표현된다.<br>\n",
    "\n",
    "- 최단 거리 알고리즘: 다익스트라 최단 경로 알고리즘, 플로이드 워셜 알고리즘"
   ]
  },
  {
   "cell_type": "markdown",
   "id": "6a5adf59",
   "metadata": {},
   "source": [
    "### 다익스트라 최단 경로 알고리즘"
   ]
  },
  {
   "cell_type": "markdown",
   "id": "3046a5ef",
   "metadata": {},
   "source": [
    "그래프에서 여러 개의 노드가 있을 때, 특정한 노드에서 출발하여 다른 노드로 가는 각각의 최단 경로를 구해주는 알고리즘<br>\n",
    "기본적으로 그리디 알고리즘으로 분류됨"
   ]
  },
  {
   "cell_type": "markdown",
   "id": "126aa055",
   "metadata": {},
   "source": [
    "<알고리즘 원리>\n",
    "1. 출발 노드 설정\n",
    "2. 최단 거리 테이블 초기화\n",
    "3. 방문하지 않은 노드 중에서 최단 거리가 가장 짧은 노드 선택\n",
    "4. 해당 노드를 거쳐 다른 노드로 가는 비용 계산하여 최단 거리 테이블 갱신\n",
    "5. 위 과정에서 3,4번 반복"
   ]
  },
  {
   "cell_type": "markdown",
   "id": "2438ae92",
   "metadata": {},
   "source": [
    "최단 거리 테이블에서 한번 거쳐간 노드의 최단 거리는 감소하지 않는다. 따라서, 다익스트라 알고리즘은 한 단계당 하나의 노드에 대한 최단 거리를 확실히 찾는 것으로 이해할 수 있다."
   ]
  },
  {
   "cell_type": "markdown",
   "id": "9dc09509",
   "metadata": {},
   "source": [
    "#### 방법 1. 간단한 다익스트라 알고리즘\n",
    "시간 복잡도 O(V^2), V:노드의 개수 <br>\n",
    "단계마다 '방문하지 않은 노드 중에서 최단 거리가 가장 짧은 노드를 선택'하기 위해 매 단계마다 1차원 리스트의 모든 원소를 확인한다."
   ]
  },
  {
   "cell_type": "code",
   "execution_count": 12,
   "id": "40457532",
   "metadata": {},
   "outputs": [
    {
     "name": "stdout",
     "output_type": "stream",
     "text": [
      "6 11\n",
      "1\n",
      "1 2 2\n",
      "1 3 5\n",
      "1 4 1\n",
      "2 3 3\n",
      "2 4 2\n",
      "3 2 3\n",
      "3 6 5\n",
      "4 3 3\n",
      "4 5 1\n",
      "5 3 1\n",
      "5 6 2\n",
      "0\n",
      "2\n",
      "3\n",
      "1\n",
      "2\n",
      "4\n"
     ]
    }
   ],
   "source": [
    "# 9-1.py  간단한 다익스트라 알고리즘\n",
    "INF = int(1e9) # 무한을 의미하는 값으로 10억을 설정\n",
    "\n",
    "# 노드의 개수, 간선의 개수를 입력받기\n",
    "n, m = map(int, input().split())\n",
    "# 시작 노드 번호를 입력받기\n",
    "start = int(input())\n",
    "# 각 노드에 연결되어 있는 노드에 대한 정보를 담는 리스트 만들기\n",
    "graph = [[] for i in range(n+1)]\n",
    "# 방문한 적이 있는지 체크하는 목적의 리스트를 만들기\n",
    "visited = [False]*(n+1)\n",
    "# 최단 거리 테이블을 모두 무한으로 초기화\n",
    "distance = [INF]*(n+1)\n",
    "\n",
    "#모든 간선 정보를 입력받기\n",
    "for _ in range(m):\n",
    "    a, b, c = map(int, input().split())\n",
    "    #a번 노드에서 b번 노드로 가는 비용이 c라는 의미\n",
    "    graph[a].append((b,c))\n",
    "\n",
    "#방문하지 않은 노드 중에서, 가장 최단 거리가 짧은 노드의 번호를 반환\n",
    "def get_smallest_node():\n",
    "    min_value = INF\n",
    "    index = 0 #가장 최단 거리가 짧은 노드 (인덱스)\n",
    "    for i in range(1, n+1):\n",
    "        if distance[i] < min_value and not visited[i]:\n",
    "            min_value = distance[i]\n",
    "            index = i\n",
    "    return index\n",
    "\n",
    "def dijkstra(start):\n",
    "    #시작 노드에 대해서 초기화\n",
    "    distance[start]=0\n",
    "    visited[start]=True\n",
    "    for j in graph[start]:\n",
    "        distance[j[0]] = j[1]\n",
    "    #시작 노드를 제외한 전체 n-1개의 노드에 대해 반복\n",
    "    for i in range(n-1):\n",
    "        #현재 최단 거리가 가장 짧은 노드를 꺼내서 방문 처리\n",
    "        now = get_smallest_node()\n",
    "        visited[now]=True\n",
    "        #현재 노드와 연결된 다른 노드를 확인\n",
    "        for j in graph[now]:\n",
    "            cost = distance[now]+j[1]\n",
    "            #현재 노들ㄹ 거쳐서 다른 노드로 이동하는 거리가 더 짧은 경우\n",
    "            if cost < distance[j[0]]:\n",
    "                distance[j[0]] = cost\n",
    "                \n",
    "#다익스트라 알고리즘 수행\n",
    "dijkstra(start)\n",
    "\n",
    "#모든 노드로 가기 위ㅡ한 최단 거리를 출력\n",
    "for i in range(1, n+1):\n",
    "    #도달할 수 없는 경우, 무한(INFINITY)이라고 출력\n",
    "    if distance[i]==INF:\n",
    "        print(\"INFINITY\")\n",
    "    #도달할 수 있는 경우 거리를 출력\n",
    "    else:\n",
    "        print(distance[i])\n",
    "        "
   ]
  },
  {
   "cell_type": "markdown",
   "id": "8e792525",
   "metadata": {},
   "source": [
    "#### 방법 2. 개선된 다익스트라 알고리즘"
   ]
  },
  {
   "cell_type": "markdown",
   "id": "3aa1bc8d",
   "metadata": {},
   "source": [
    "힙 자료구조를 이용하여 시간 복잡도가 최대 O(ElogV)가 됨, E:간선의 개수, V:노드의 개수"
   ]
  },
  {
   "cell_type": "code",
   "execution_count": 6,
   "id": "dba7ed2b",
   "metadata": {},
   "outputs": [
    {
     "name": "stdout",
     "output_type": "stream",
     "text": [
      "6 11\n",
      "1\n",
      "1 2 2\n",
      "1 3 5\n",
      "1 4 1\n",
      "2 3 3\n",
      "2 4 2\n",
      "3 2 3\n",
      "3 6 5\n",
      "4 3 3\n",
      "4 5 1\n",
      "5 3 1\n",
      "5 6 2\n",
      "0\n",
      "2\n",
      "3\n",
      "1\n",
      "2\n",
      "4\n"
     ]
    }
   ],
   "source": [
    "import heapq\n",
    "\n",
    "INF = int(1e9) #무한을 의미하는 값으로 10억을 설정\n",
    "\n",
    "#노드의 개수, 간선의 개수를 입력받기\n",
    "n,m = map(int, input().split())\n",
    "#시작 노드 번호를 입력받기\n",
    "start = int(input())\n",
    "#각 노드에 연결되어 있는 노드에 대한 정보를 담는 리스트 만들기\n",
    "graph = [[] for i in range(n+1)]\n",
    "#최단 거리 테이블을 모두 무한으로 초기화\n",
    "distance = [INF]*(n+1)\n",
    "\n",
    "#모든 간선 정보를 입력 받기\n",
    "for _ in range(m):\n",
    "    a, b, c = map(int, input().split())\n",
    "    #a번 노드에서 b번 노드로 가는 비용이 c라는 의미\n",
    "    graph[a].append((b,c))\n",
    "    \n",
    "def dijkstra(start):\n",
    "    q = []\n",
    "    #시작 노드로 가기 위한 최단 경로는 0으로 설정하여, 큐에 삽입\n",
    "    heapq.heappush(q,(0,start))\n",
    "    distance[start] = 0\n",
    "    while q: # 큐가 비어있지 않다면\n",
    "        #가장 최단 거리가 짧은 노드에 대한 정보 꺼내기\n",
    "        dist, now = heapq.heappop(q)\n",
    "        #현재 노드가 이미 처리된 적이 있는 노드라면 무시\n",
    "        if distance[now] < dist:\n",
    "            continue\n",
    "        #현재 노드와 연결된 다른 인접한 노드들을 확인\n",
    "        for i in graph[now]:\n",
    "            cost = dist + i[1]\n",
    "            #현재 노드를 거쳐서, 다른 노드로 이동하는 거리가 더 짧은 경우\n",
    "            if cost < distance[i[0]]:\n",
    "                distance[i[0]] = cost\n",
    "                heapq.heappush(q,(cost, i[0]))\n",
    "\n",
    "#다익스트라 알고리즘 수행\n",
    "dijkstra(start)\n",
    "\n",
    "#모든 노드로 가기 위한 최단 거리를 출력\n",
    "for i in range(1, n+1):\n",
    "    #도달할 수 없는 경우, 무한(INFINITY)이라고 출력\n",
    "    if distance[i] == INF:\n",
    "        print(\"INFINITY\")\n",
    "    #도달할 수 있는 경우 거리를 출력\n",
    "    else:\n",
    "        print(distance[i])"
   ]
  },
  {
   "cell_type": "markdown",
   "id": "21251e2e",
   "metadata": {},
   "source": [
    "### 플로이드 워셜 알고리즘\n",
    "'모든 지점에서 다른 모든 지점까지의 최단 경로를 모두 구해야 하는 경우'에 사용할 수 있는 알고리즘이다. <br>\n",
    "플로이드 워셜 알고리즘의 총 시간 복잡도는 O(N^3)이며, 다익스트라 알고리즘에서는 최단 거리를 저장하기 위해 1차원 리스트를 사용한 반면, 여기서는 2차원 리스트에 '최단 거리' 정보를 저장한다는 특징이 있다."
   ]
  },
  {
   "cell_type": "markdown",
   "id": "a6ad4e35",
   "metadata": {},
   "source": [
    "<알고리즘 원리>\n",
    "1. 첫번째 노드부터 시작해서, 해당 노드를 거쳐가는 모든 경우를 고려한다. <br>\n",
    "예를 들어, 1번 노드에 대해 확인할 때는 1번 노드를 중간에 거쳐 지나가는 모든 경우를 고려\n",
    "2. A->B 로 바로 가는 거리와 A->1번노드->B로 가는 거리를 비교해서 더 작은 거리로 최단 거리 테이블을 갱신한다.\n",
    "3. 이를 모든 노드에 대해서 반복한다."
   ]
  },
  {
   "cell_type": "code",
   "execution_count": 2,
   "id": "729505d4",
   "metadata": {},
   "outputs": [
    {
     "name": "stdout",
     "output_type": "stream",
     "text": [
      "4\n",
      "7\n",
      "1 2 4\n",
      "1 4 6\n",
      "2 1 3\n",
      "2 3 7\n",
      "3 1 5\n",
      "3 4 4\n",
      "4 3 2\n",
      "0 4 8 6 \n",
      "3 0 7 9 \n",
      "5 9 0 4 \n",
      "7 11 2 0 \n"
     ]
    }
   ],
   "source": [
    "# 9-3.py 플로이드 워셜 알고리즘 소스코드\n",
    "INF = int(1e9) #무한을 의미하는 값으로 10억을 설정\n",
    "\n",
    "#노드의 개수 및 간선의 개수를 입력받기\n",
    "n = int(input())\n",
    "m = int(input())\n",
    "#2차원 리스트(그래프 표현)를 만들고, 모든 값을 무한으로 초기화\n",
    "graph = [[INF]*(n+1) for _ in range(n+1)]\n",
    "#자기 자신에서 자기 자신으로 가는 비용 0으로 초기화\n",
    "for a in range(1, n+1):\n",
    "    for b in range(1, n+1):\n",
    "        if a == b:\n",
    "            graph[a][b] = 0\n",
    "#각 간선에 대한 정보를 입력받아, 그 값으로 초기화\n",
    "for _ in range(m):\n",
    "    #A에서 B로 가는 비용은 C라고 설정\n",
    "    a, b, c = map(int, input().split())\n",
    "    graph[a][b]=c\n",
    "\n",
    "#점화식에 따라 플로이드 워셜 알고리즘을 수행\n",
    "for k in range(1, n+1):\n",
    "    for a in range(1, n+1):\n",
    "        for b in range(1, n+1):\n",
    "            graph[a][b] = min(graph[a][b], graph[a][k]+graph[k][b])\n",
    "#수행된 결과를 출력\n",
    "for a in range(1,n+1):\n",
    "    for b in range(1, n+1):\n",
    "        #도달할 수 없는 경우, 무한(INFINITY)이라고 출력\n",
    "        if graph[a][b] == INF:\n",
    "            print(\"INFINITY\", end=\" \")\n",
    "        #도달할 수 있는 경우 거리를 출력\n",
    "        else:\n",
    "            print(graph[a][b], end=\" \")\n",
    "    print()"
   ]
  },
  {
   "cell_type": "markdown",
   "id": "2d6c69dc",
   "metadata": {},
   "source": [
    "### 예제) 미래 도시\n",
    "플로이드 워셜 알고리즘 문제"
   ]
  },
  {
   "cell_type": "code",
   "execution_count": 15,
   "id": "bd1cbf56",
   "metadata": {},
   "outputs": [
    {
     "name": "stdout",
     "output_type": "stream",
     "text": [
      "4 2\n",
      "1 3\n",
      "2 4\n",
      "3 4\n",
      "-------------최단 거리 테이블 확인--------------\n",
      "0 INFINITY 1 INFINITY \n",
      "INFINITY 0 INFINITY 1 \n",
      "1 INFINITY 0 INFINITY \n",
      "INFINITY 1 INFINITY 0 \n",
      "------------최종 최단 distance--------------------\n",
      "-1\n"
     ]
    }
   ],
   "source": [
    "INF = int(1e9) #무한을 의미하는 값으로 10억을 설정\n",
    "\n",
    "#노드의 개수 및 간선의 개수를 입력받기\n",
    "n, m = map(int, input().split())\n",
    "\n",
    "#2차원 리스트(그래프 표현)를 만들고, 모든 값을 무한으로 초기화\n",
    "graph = [[INF]*(n+1) for _ in range(n+1)]\n",
    "#자기 자신에서 자기 자신으로 가는 비용 0으로 초기화\n",
    "for a in range(1, n+1):\n",
    "    for b in range(1, n+1):\n",
    "        if a == b:\n",
    "            graph[a][b] = 0\n",
    "#각 간선에 대한 정보를 입력받아, 그 값으로 초기화\n",
    "for _ in range(m):\n",
    "    #A에서 B로 가는 비용은 C라고 설정\n",
    "    a, b = map(int, input().split())\n",
    "    graph[a][b]=1\n",
    "    graph[b][a]=1 ### ********반대로 가는 경우의 거리도 꼭 더해주기 ************\n",
    "\n",
    "#점화식에 따라 플로이드 워셜 알고리즘을 수행\n",
    "for l in range(1, n+1):\n",
    "    for a in range(1, n+1):\n",
    "        for b in range(1, n+1):\n",
    "            graph[a][b] = min(graph[a][b], graph[a][l]+graph[l][b])\n",
    "\n",
    "#k번 회사를 거쳐 x번 회사로 가야하므로, k번 회사와 x번 회사에 대한 정보 입력\n",
    "x, k = map(int, input().split())\n",
    "\n",
    "#수행된 결과를 출력(최단 거리 테이블 확인)\n",
    "print(\"-------------최단 거리 테이블 확인--------------\")\n",
    "for a in range(1,n+1):\n",
    "    for b in range(1, n+1):\n",
    "        #도달할 수 없는 경우, 무한(INFINITY)이라고 출력\n",
    "        if graph[a][b] == INF:\n",
    "            print(\"INFINITY\", end=\" \")\n",
    "        #도달할 수 있는 경우 거리를 출력\n",
    "        else:\n",
    "            print(graph[a][b], end=\" \")\n",
    "    print()\n",
    "    \n",
    "\n",
    "print(\"------------최종 최단 distance--------------------\")\n",
    "result = graph[1][k]+graph[k][x]\n",
    "if result > INF:\n",
    "    print(\"-1\")\n",
    "else: \n",
    "    print(result)"
   ]
  },
  {
   "cell_type": "markdown",
   "id": "98e45069",
   "metadata": {},
   "source": [
    "### 예제) 전보"
   ]
  },
  {
   "cell_type": "code",
   "execution_count": 11,
   "id": "cbc61825",
   "metadata": {},
   "outputs": [
    {
     "name": "stdout",
     "output_type": "stream",
     "text": [
      "3 2 1\n",
      "1 2 4\n",
      "1 3 2\n",
      "2 4\n"
     ]
    }
   ],
   "source": [
    "import heapq\n",
    "\n",
    "INF = int(1e9) #무한을 의미하는 값으로 10억을 설정\n",
    "\n",
    "#노드의 개수, 간선의 개수, 시작 도시 번호 c를 입력받기\n",
    "n,m,c = map(int, input().split())\n",
    "#각 노드에 연결되어 있는 노드에 대한 정보를 담는 리스트 만들기\n",
    "graph = [[] for i in range(n+1)]\n",
    "#최단 거리 테이블을 모두 무한으로 초기화\n",
    "distance = [INF]*(n+1)\n",
    "\n",
    "#모든 간선 정보를 입력 받기\n",
    "for _ in range(m):\n",
    "    x, y, z = map(int, input().split())\n",
    "    #a번 노드에서 b번 노드로 가는 비용이 c라는 의미\n",
    "    graph[x].append((y,z))\n",
    "    \n",
    "def dijkstra(start):\n",
    "    q = []\n",
    "    #시작 노드로 가기 위한 최단 경로는 0으로 설정하여, 큐에 삽입\n",
    "    heapq.heappush(q,(0,start))\n",
    "    distance[start] = 0\n",
    "    while q: # 큐가 비어있지 않다면\n",
    "        #가장 최단 거리가 짧은 노드에 대한 정보 꺼내기\n",
    "        dist, now = heapq.heappop(q)\n",
    "        #현재 노드가 이미 처리된 적이 있는 노드라면 무시\n",
    "        if distance[now] < dist:\n",
    "            continue\n",
    "        #현재 노드와 연결된 다른 인접한 노드들을 확인\n",
    "        for i in graph[now]:\n",
    "            cost = dist + i[1]\n",
    "            #현재 노드를 거쳐서, 다른 노드로 이동하는 거리가 더 짧은 경우\n",
    "            if cost < distance[i[0]]:\n",
    "                distance[i[0]] = cost\n",
    "                heapq.heappush(q,(cost, i[0]))\n",
    "\n",
    "#다익스트라 알고리즘 수행\n",
    "dijkstra(start)\n",
    "        \n",
    "#도달할 수 있는 노드의 개수\n",
    "count = 0\n",
    "#도달할 수 있는 노드 중에서, 가장 멀리 있는 노드와의 최단 거리\n",
    "max_distance = 0\n",
    "for d in distance:\n",
    "    #도달할 수 있는 노드인 경우\n",
    "    if d != INF:\n",
    "        count += 1\n",
    "        max_distance = max(max_distance, d) \n",
    "        \n",
    "print(count-1, max_distance) #시작 노드는 제외해야하므로 count-1 입력"
   ]
  },
  {
   "cell_type": "markdown",
   "id": "221bc3b5",
   "metadata": {},
   "source": [
    "피드백: max_distance 구할 때 전체 distance에서 max 구하면 도달할 수 없는 노드의 거리 (무한)이 나올 수 있으니 조심"
   ]
  }
 ],
 "metadata": {
  "kernelspec": {
   "display_name": "Python 3",
   "language": "python",
   "name": "python3"
  },
  "language_info": {
   "codemirror_mode": {
    "name": "ipython",
    "version": 3
   },
   "file_extension": ".py",
   "mimetype": "text/x-python",
   "name": "python",
   "nbconvert_exporter": "python",
   "pygments_lexer": "ipython3",
   "version": "3.8.8"
  }
 },
 "nbformat": 4,
 "nbformat_minor": 5
}
