{
 "cells": [
  {
   "cell_type": "markdown",
   "id": "bc77cbc7",
   "metadata": {},
   "source": [
    "# Q22. 블록이동하기"
   ]
  },
  {
   "cell_type": "markdown",
   "id": "d0d4dca3",
   "metadata": {},
   "source": [
    "- 로봇의 방문 여부를 관리하기 위해 위치 정보를 튜플로 처리\n",
    "- 로봇의 상태를 집합 자료형(set)으로 관리: 한 번 방문한 상태는 두 번 방문하지 않는다.\n",
    "- 소스코드를 간단하게 작성하기 위하여, 초기에 주어진 맵을 변형하여 외곽에 벽을 둘 수 있다.(이렇게 하면 로봇이 맵을 벗어나지 않는지, 그 범위 판정을 더 간단히 할 수 있다.)"
   ]
  },
  {
   "cell_type": "code",
   "execution_count": 10,
   "id": "667a23d7",
   "metadata": {},
   "outputs": [],
   "source": [
    "from collections import deque\n",
    "\n",
    "def get_next_pos(pos, board):\n",
    "    next_pos = [] #반환 결과(이동 가능한 위치들)\n",
    "    pos = list(pos) #현재 위치 정보를 리스트로 변환(집합 -> 리스트)\n",
    "    pos1_x, pos1_y, pos2_x, pos2_y = pos[0][0], pos[0][1], pos[1][0], pos[1][1]\n",
    "    # (상, 하, 좌, 우)로 이동하는 경우에 대해서 처리\n",
    "    dx = [-1, 1, 0, 0]\n",
    "    dy = [0, 0, -1, 1]\n",
    "    for i in range(4):\n",
    "        pos1_next_x, pos1_next_y, pos2_next_x, pos2_next_y = pos1_x + dx[i], pos1_y+dy[i], pos2_x+dx[i], pos2_y+dy[i]\n",
    "        #이동하고자 하는 두 칸이 모두 비어 있다면\n",
    "        if board[pos1_next_x][pos1_next_y] == 0 and board[pos2_next_x][pos2_next_y] == 0:\n",
    "            next_pos.append({(pos1_next_x, pos1_next_y), (pos2_next_x, pos2_next_y)})\n",
    "    #현재 로봇이 가로로 놓여 있는 경우\n",
    "    if pos1_x == pos2_x:\n",
    "        for i in [-1, 1]: #위쪽으로 회전하거나, 아래쪽으로 회전\n",
    "            if board[pos1_x+i][pos1_y] == 0 and board[pos2_x +i][pos2_y] == 0: #위쪽 혹은 아래쪽 두 칸이 모두 비어있다면\n",
    "                next_pos.append({(pos1_x, pos1_y), (pos1_x+i, pos1_y)})\n",
    "                next_pos.append({(pos2_x, pos2_y), (pos2_x+i, pos2_y)})\n",
    "    elif pos1_y == pos2_y: #현재 로봇이 세로로 놓여있는 경우\n",
    "        for i in [-1, 1]:\n",
    "            if board[pos1_x][pos1_y+i] == 0 and board[pos2_x][pos2_y+i] == 0: #왼쪽 혹은 오른쪽 두 칸이 모두 비어있다면\n",
    "                next_pos.append({(pos1_x, pos1_y), (pos1_x, pos1_y+i)})\n",
    "                next_pos.append({(pos2_x, pos2_y), (pos2_x, pos2_y+i)})\n",
    "    return next_pos #현재 위치에서 이동할 수 있는 위치를 반환\n",
    "\n",
    "\n",
    "def solution(board):\n",
    "    # 맵의 외곽에 벽을 두는 형태로 맵 변형\n",
    "    n = len(board)\n",
    "    new_board = [[1]*(n+2) for _ in range(n+2)] #7*7 matrix 생성 - 모든 원소가 1인\n",
    "    for i in range(n):\n",
    "        for j in range(n):\n",
    "            new_board[i+1][j+1] = board[i][j] #기존의 5*5 matrix가져와서 변경하기\n",
    "    #너비 우선 탐색(BFS) 수행\n",
    "    q = deque()\n",
    "    visited = []\n",
    "    pos = {(1,1),(1,2)} #시작 위치 설정\n",
    "    q.append((pos, 0)) #큐에 삽입한 뒤에\n",
    "    visited.append(pos) #방문 처리\n",
    "    #큐가 빌 때까지 반복\n",
    "    while q:\n",
    "        pos, cost = q.popleft()\n",
    "        #(n,n) 위치에 로봇이 도달했다면, 최단 거리이므로 반환\n",
    "        if (n,n) in pos:\n",
    "            return cost\n",
    "        #현재 위치에서 이동할 수 있는 위치 확인\n",
    "        for next_pos in get_next_pos(pos, new_board):\n",
    "            #아직 방문하지 않은 위치라면 큐에 삽입하고 방문 처리\n",
    "            if next_pos not in visited:\n",
    "                q.append((next_pos, cost+1))\n",
    "                visited.append(next_pos)          \n",
    "    return 0"
   ]
  },
  {
   "cell_type": "code",
   "execution_count": 11,
   "id": "ee5eab30",
   "metadata": {},
   "outputs": [
    {
     "data": {
      "text/plain": [
       "7"
      ]
     },
     "execution_count": 11,
     "metadata": {},
     "output_type": "execute_result"
    }
   ],
   "source": [
    "board =  [[0,0,0,1,1], [0,0,0,1,0], [0,1,0,1,1], [1,1,0,0,1], [0,0,0,0,0]]\n",
    "\n",
    "solution(board)"
   ]
  },
  {
   "cell_type": "markdown",
   "id": "43461c9c",
   "metadata": {},
   "source": [
    "# Q24. 안테나"
   ]
  },
  {
   "cell_type": "code",
   "execution_count": 20,
   "id": "1c9946f4",
   "metadata": {
    "scrolled": true
   },
   "outputs": [
    {
     "name": "stdout",
     "output_type": "stream",
     "text": [
      "4\n",
      "5 1 7 9\n",
      "5\n"
     ]
    }
   ],
   "source": [
    "# 내 풀이(하나하나 다 계산한거)\n",
    "n = int(input())\n",
    "house = list(map(int, input().split()))\n",
    "\n",
    "dist_list = [] \n",
    "\n",
    "for i in range(n):\n",
    "    dist = 0\n",
    "    for j in range(n):\n",
    "        dist += abs(house[i] - house[j])\n",
    "    dist_list.append(dist)\n",
    "\n",
    "min_idx = dist_list.index(min(dist_list))\n",
    "print(house[min_idx])"
   ]
  },
  {
   "cell_type": "markdown",
   "id": "adb4731a",
   "metadata": {},
   "source": [
    "답지 풀이\n",
    "- 이 문제의 핵심 아이디어: 중간값 위치의 집에 안테나 설치하면, 거리의 총합이 최소가 됨\n",
    "- 짝수인 경우 중앙값이 2개인데, 여기선 무조건 앞의 것을 선택하도록 코드를 짠 건 출력 조건에 안테나를 설치할 수 있는 위치 값이 여러개 도출된 경우 가장 작은 값을 출력하라고 했기 때문"
   ]
  },
  {
   "cell_type": "code",
   "execution_count": 21,
   "id": "45846a32",
   "metadata": {},
   "outputs": [
    {
     "name": "stdout",
     "output_type": "stream",
     "text": [
      "4\n",
      "5 1 7 9\n",
      "5\n"
     ]
    }
   ],
   "source": [
    "# 답지 풀이\n",
    "n = int(input())\n",
    "data = list(map(int, input().split()))\n",
    "data.sort()\n",
    "print(data[(n-1) // 2])\n"
   ]
  },
  {
   "cell_type": "markdown",
   "id": "e7d5842b",
   "metadata": {},
   "source": [
    "# Q25. 실패율 "
   ]
  },
  {
   "cell_type": "code",
   "execution_count": 30,
   "id": "dd3a042f",
   "metadata": {},
   "outputs": [],
   "source": [
    "def solution(N, stages):\n",
    "    fail_rate = []\n",
    "    length = len(stages)\n",
    "\n",
    "    for i in range(1, N+1):\n",
    "        not_clear = stages.count(i)\n",
    "        \n",
    "        if length == 0:\n",
    "            fail = 0\n",
    "        else:\n",
    "            fail = not_clear/length\n",
    "            \n",
    "        fail_rate.append((i, fail))\n",
    "        length -= not_clear\n",
    "\n",
    "    answer = sorted(fail_rate, key = lambda t: t[1], reverse=True)\n",
    "    answer = [i[0] for i in answer]\n",
    "    \n",
    "    return answer"
   ]
  }
 ],
 "metadata": {
  "kernelspec": {
   "display_name": "Python 3 (ipykernel)",
   "language": "python",
   "name": "python3"
  },
  "language_info": {
   "codemirror_mode": {
    "name": "ipython",
    "version": 3
   },
   "file_extension": ".py",
   "mimetype": "text/x-python",
   "name": "python",
   "nbconvert_exporter": "python",
   "pygments_lexer": "ipython3",
   "version": "3.8.12"
  }
 },
 "nbformat": 4,
 "nbformat_minor": 5
}
