{
 "cells": [
  {
   "cell_type": "markdown",
   "id": "46c92bc9",
   "metadata": {},
   "source": [
    "# Q17. 경쟁적 전염"
   ]
  },
  {
   "cell_type": "code",
   "execution_count": 46,
   "id": "95d5d695",
   "metadata": {},
   "outputs": [
    {
     "name": "stdout",
     "output_type": "stream",
     "text": [
      "3 3\n",
      "1 0 2\n",
      "0 0 0\n",
      "3 0 0\n",
      "2 3 2\n",
      "3\n"
     ]
    }
   ],
   "source": [
    "from collections import deque\n",
    "\n",
    "n, k = map(int, input().split())\n",
    "\n",
    "graph = [] # 전체 보드 정보를 담는 리스트\n",
    "data = [] # 바이러스에 대한 정보를 담는 리스트\n",
    "\n",
    "for i in range(n):\n",
    "    #보드 정보를 한 줄 단위로 입력\n",
    "    graph.append(list(map(int, input().split())))\n",
    "    for j in range(n):\n",
    "        #해당 위치에 바이러스가 존재하는 경우\n",
    "        if graph[i][j] != 0:\n",
    "            #(바이러스 종류, 시간, 위치X, 위치Y) 삽입\n",
    "            data.append((graph[i][j], 0, i, j))\n",
    "\n",
    "#정렬 이후에 큐로 옮기기(낮은 번호의 바이러스가 먼저 증식하므로)\n",
    "data.sort()\n",
    "q = deque(data)\n",
    "\n",
    "target_s, target_x, target_y = map(int, input().split())\n",
    "\n",
    "#바이러스가 퍼져나갈 수 있는 4가지 위치\n",
    "dx = [-1, 0 , 1, 0]\n",
    "dy = [0, 1, 0, -1]\n",
    "\n",
    "#너비 우선 탐색(BFS) 진행\n",
    "while q:\n",
    "    virus, s, x, y = q.popleft()\n",
    "    # 정확히 s초가 지나거나, 큐가 빌 때까지 반복\n",
    "    if s == target_s:\n",
    "        break\n",
    "    # 현재 노드에서 주변 4가지 위치를 각각 확인\n",
    "    for i in range(4):\n",
    "        nx = x+dx[i]\n",
    "        ny = y+dy[i]\n",
    "        #해당 위치로 이동할 수 있는 경우\n",
    "        if 0 <= nx and nx < n and 0 <= ny and ny < n:\n",
    "            #아직 방문하지 않은 위치라면, 그 위치에 바이러스 넣기\n",
    "            if graph[nx][ny] == 0:\n",
    "                graph[nx][ny] = virus\n",
    "                q.append((virus, s+1, nx, ny))\n",
    "\n",
    "print(graph[target_x-1][target_y-1])"
   ]
  },
  {
   "cell_type": "markdown",
   "id": "6f780a0c",
   "metadata": {},
   "source": [
    "# Q18. 괄호 변환"
   ]
  },
  {
   "cell_type": "code",
   "execution_count": 9,
   "id": "c70af77e",
   "metadata": {},
   "outputs": [],
   "source": [
    "# 균형잡힌 괄호 문자열의 인덱스 반환\n",
    "def balanced_index(p):\n",
    "    count = 0 \n",
    "    for i in range(len(p)):\n",
    "        if p[i] =='(':\n",
    "            count += 1\n",
    "        else:\n",
    "            count -= 1\n",
    "        if count ==0:\n",
    "            return i\n",
    "\n",
    "#올바른 괄호 문자열인지 판단\n",
    "def check_proper(p):\n",
    "    count = 0 #왼쪽 괄호의 개수\n",
    "    for i in p:\n",
    "        if i == '(':\n",
    "            count += 1\n",
    "        else:\n",
    "            if count == 0: #쌍이 맞지 않는 경우에 False 반환\n",
    "                return False\n",
    "            count -= 1\n",
    "        return True #쌍이 맞는 경우에 True 반환\n",
    "\n",
    "def solution(p):\n",
    "    answer =''\n",
    "    if p =='':\n",
    "        return answer\n",
    "    index = balanced_index(p)\n",
    "    u = p[:index+1]\n",
    "    v = p[index+1:]\n",
    "    #올바른 괄호 문자열이면, v에 대해 함수를 수행한 결과를 붙여 반환\n",
    "    if check_proper(u):\n",
    "        answer = u+solution(v)\n",
    "    #올바른 괄호 문자열이 아니라면 아래의 과정을 수행\n",
    "    else:\n",
    "        answer = '('\n",
    "        answer += solution(v)\n",
    "        answer += ')'\n",
    "        u = list(u[1:-1]) #첫 번째와 마지막 문자를 제거\n",
    "        for i in range(len(u)):\n",
    "            if u[i] == '(':\n",
    "                u[i] = ')'\n",
    "            else:\n",
    "                u[i] = '('\n",
    "        answer += \"\".join(u)\n",
    "    return answer\n"
   ]
  },
  {
   "cell_type": "code",
   "execution_count": 10,
   "id": "d2ab52dd",
   "metadata": {},
   "outputs": [
    {
     "data": {
      "text/plain": [
       "'(())()'"
      ]
     },
     "execution_count": 10,
     "metadata": {},
     "output_type": "execute_result"
    }
   ],
   "source": [
    "p = '(()))('\n",
    "solution(p)"
   ]
  },
  {
   "cell_type": "markdown",
   "id": "5b280511",
   "metadata": {},
   "source": [
    "# Q19. 연산자 끼워 넣기"
   ]
  },
  {
   "cell_type": "markdown",
   "id": "eb65e506",
   "metadata": {},
   "source": [
    "- 중복 순열 이용 (중복 가능한 n개에서 r개를 택하여 일렬로 나열하는 경우의 수.)"
   ]
  },
  {
   "cell_type": "code",
   "execution_count": 15,
   "id": "c4c64090",
   "metadata": {},
   "outputs": [
    {
     "name": "stdout",
     "output_type": "stream",
     "text": [
      "2\n",
      "5 6\n",
      "0 0 1 0\n",
      "30\n",
      "30\n"
     ]
    }
   ],
   "source": [
    "n = int(input())\n",
    "data = list(map(int, input().split()))\n",
    "add, sub, mul, div = map(int, input().split())\n",
    "\n",
    "min_value = 1e9\n",
    "max_value = -1e9\n",
    "\n",
    "#깊이 우선 탐색(DFS) 메서드\n",
    "def dfs(i, now):\n",
    "    global min_value, max_value, add, sub, mul, div\n",
    "    #모든 연산자를 다 사용한 경우, 최솟값과 최댓값 업데이트\n",
    "    if i == n:\n",
    "        min_value = min(min_value, now)\n",
    "        max_value = max(max_value, now)\n",
    "    else:\n",
    "        #각 연산자에 대하여 재귀적으로 수행\n",
    "        if add > 0 :\n",
    "            add -= 1\n",
    "            dfs(i+1, now+data[i])\n",
    "            add += 1 # 여러 조합을 찾아봐야하니까 원래대로 되돌릴려고 \n",
    "        if sub > 0:\n",
    "            sub -= 1\n",
    "            dfs(i+1, now-data[i])\n",
    "            sub += 1\n",
    "        if mul > 0:\n",
    "            mul -= 1\n",
    "            dfs(i+1, now*data[i])\n",
    "            mul += 1\n",
    "        if div > 0:\n",
    "            div -= 1\n",
    "            dfs(i+1, int(now/data[i])) #나눌 때는 나머지를 제거\n",
    "            div += 1\n",
    "#DFS 메서드 호출\n",
    "dfs(1, data[0])\n",
    "\n",
    "print(max_value)\n",
    "print(min_value)"
   ]
  },
  {
   "cell_type": "markdown",
   "id": "754176d5",
   "metadata": {},
   "source": [
    "아래는 경진언니 코드"
   ]
  },
  {
   "cell_type": "code",
   "execution_count": 1,
   "id": "4a6d4eff",
   "metadata": {},
   "outputs": [
    {
     "name": "stdout",
     "output_type": "stream",
     "text": [
      "2\n",
      "5 6\n",
      "0 0 1 0\n",
      "30\n",
      "30\n"
     ]
    }
   ],
   "source": [
    "from itertools import permutations\n",
    "\n",
    "n = int(input()) # 숫자 개수\n",
    "array = list(map(int, input().split())) # 수열\n",
    "count = list(map(int, input().split())) # +-*/ 각 개수\n",
    "\n",
    "# +-*/를 1234로 개수만큼 리스트(oper)에 추가\n",
    "oper = []\n",
    "for i in range(4):\n",
    "    oper += [i] * count[i]\n",
    "\n",
    "# 가능한 연산 순서 조합 계산(중복 제거)\n",
    "oper = list(set(permutations(oper, len(oper))))\n",
    "\n",
    "# 연산 순서가 주어졌을 때 연산 결과 계산\n",
    "def calculate(op):\n",
    "    result = array[0]\n",
    "    for i in range(n-1):\n",
    "        if op[i] == 0:\n",
    "            result += array[i+1]\n",
    "        elif op[i] == 1:\n",
    "            result -= array[i+1]\n",
    "        elif op[i] == 2:\n",
    "            result *= array[i+1]\n",
    "        else:\n",
    "            # 둘 중 하나가 음수일 경우\n",
    "            if result * array[i+1] < 0 :\n",
    "                result = -(abs(result) // abs(array[i+1]))\n",
    "            # 그 외\n",
    "            else:\n",
    "                result //= array[i+1]\n",
    "    return result\n",
    "\n",
    "# 첫 번째 연산 조합에 대한 계산 결과를 초기값으로 설정\n",
    "res_max = calculate(oper[0])\n",
    "res_min = calculate(oper[0])\n",
    "\n",
    "# 각 연산 조합에 대해 결과 계산\n",
    "for i in range(1,len(oper)):\n",
    "    res_max = max(res_max, calculate(oper[i]))\n",
    "    res_min = min(res_min, calculate(oper[i]))\n",
    "\n",
    "# 결과 출력\n",
    "print(res_max)\n",
    "print(res_min)"
   ]
  }
 ],
 "metadata": {
  "kernelspec": {
   "display_name": "Python 3 (ipykernel)",
   "language": "python",
   "name": "python3"
  },
  "language_info": {
   "codemirror_mode": {
    "name": "ipython",
    "version": 3
   },
   "file_extension": ".py",
   "mimetype": "text/x-python",
   "name": "python",
   "nbconvert_exporter": "python",
   "pygments_lexer": "ipython3",
   "version": "3.8.12"
  }
 },
 "nbformat": 4,
 "nbformat_minor": 5
}
