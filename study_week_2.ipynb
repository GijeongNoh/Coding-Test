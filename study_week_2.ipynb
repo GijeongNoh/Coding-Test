{
 "cells": [
  {
   "cell_type": "markdown",
   "id": "c51ede4a",
   "metadata": {},
   "source": [
    "# 정렬"
   ]
  },
  {
   "cell_type": "markdown",
   "id": "e332d3bf",
   "metadata": {},
   "source": [
    "- 데이터를 특정한 기준에 따라서 순서대로 나열하는 것\n",
    "- 이진 탐색(Binary search)의 전처리 과정이기도 함"
   ]
  },
  {
   "cell_type": "markdown",
   "id": "56c4aa11",
   "metadata": {},
   "source": [
    "### 예제) 선택 정렬\n",
    "매번 '가장 작은 것을 선택'해 앞에 있는 데이터와 바꾸어 데이터를 정렬하는 방법 <br>\n",
    "데이터의 개수 N이 커질수록 다른 정렬 방법보다 시간이 오래걸림\n",
    "- 시간 복잡도 O(N^2)"
   ]
  },
  {
   "cell_type": "code",
   "execution_count": 2,
   "id": "0e7c4614",
   "metadata": {},
   "outputs": [
    {
     "name": "stdout",
     "output_type": "stream",
     "text": [
      "[0, 1, 2, 3, 4, 5, 6, 7, 8, 9]\n"
     ]
    }
   ],
   "source": [
    "# 6-1.py 선택 정렬 소스코드\n",
    "\n",
    "array = [7,5,9,0,3,1,6,2,4,8]\n",
    "\n",
    "for i in range(len(array)):\n",
    "    min_index=i #가장 작은 원소의 인덱스\n",
    "    for j in range(i+1, len(array)):\n",
    "        if array[min_index] > array[j]:\n",
    "            min_index = j\n",
    "    array[i], array[min_index] = array[min_index], array[i] #스와프\n",
    "    \n",
    "print(array)"
   ]
  },
  {
   "cell_type": "markdown",
   "id": "103e32f9",
   "metadata": {},
   "source": [
    "### 예제) 삽입 정렬\n",
    "특정한 데이터를 적절한 위치에 '삽입'하는 방법 <br>\n",
    "선택 정렬과 비슷한 시간 복잡도를 가지나 삽입 정렬의 경우 현재 리스트의 데이터가 거의 정렬되어 있는 상태라면 매우 빠르게 동작한다.\n",
    "- 시간 복잡도 O(N^2)"
   ]
  },
  {
   "cell_type": "code",
   "execution_count": 3,
   "id": "b11acee0",
   "metadata": {},
   "outputs": [
    {
     "name": "stdout",
     "output_type": "stream",
     "text": [
      "[0, 1, 2, 3, 4, 5, 6, 7, 8, 9]\n"
     ]
    }
   ],
   "source": [
    "# 6-3.py 삽입 정렬 소스코드\n",
    "array = [7,5,9,0,3,1,6,2,4,8]\n",
    "\n",
    "for i in range(1, len(array)):\n",
    "    for j in range(i, 0, -1): #인덱스 i부터 1까지 감소하며 반복하는 문법\n",
    "        if array[j] < array[j-1]:\n",
    "            array[j], array[j-1] = array[j-1], array[j]\n",
    "        else: #자기보다 작은 데이터를 만나면 그 위치에서 멈춤\n",
    "            break\n",
    "            \n",
    "print(array)"
   ]
  },
  {
   "cell_type": "markdown",
   "id": "2422bff6",
   "metadata": {},
   "source": [
    "### 예제) 퀵 정렬\n",
    "기준을 설정한 다음 큰 수와 작은 수를 교환한 후 리스트를 반으로 나누는 방식으로 동작 (책에서는 리스트 분할 방식으로 호어 분할을 사용)\n",
    "- 시간 복잡도 O(NlogN)"
   ]
  },
  {
   "cell_type": "code",
   "execution_count": 5,
   "id": "42a7d3f1",
   "metadata": {},
   "outputs": [
    {
     "name": "stdout",
     "output_type": "stream",
     "text": [
      "[0, 1, 2, 3, 4, 5, 6, 7, 8, 9]\n"
     ]
    }
   ],
   "source": [
    "# 6-4.py 퀵 정렬 소스코드\n",
    "array = [5,7,9,0,3,1,6,2,4,8]\n",
    "\n",
    "def quick_sort(array, start, end):\n",
    "    if start >= end: #원소가 1개인 경우 종료\n",
    "        return\n",
    "    pivot = start #피벗은 첫 번째 원소\n",
    "    left = start + 1\n",
    "    right = end\n",
    "    while left <= right:\n",
    "        #피벗보다 큰 데이터를 찾을 때까지 반복\n",
    "        while left <= end and array[left] <= array[pivot]:\n",
    "            left += 1\n",
    "            #피벗보다 작은 데이터를 찾을 때까지 반복\n",
    "        while right > start and array[right] >= array[pivot]:\n",
    "            right -= 1\n",
    "                \n",
    "        if left > right: #엇갈렸다면 작은 데이터와 피벗을 교체\n",
    "            array[right], array[pivot] = array[pivot], array[right]\n",
    "        else: #엇갈리지 않았다면 작은 데이터와 큰 데이터를 교체\n",
    "            array[left], array[right] = array[right], array[left]\n",
    "        \n",
    "    # 분할 이후 왼쪽 부본과 오른쪽 부분에서 각각 정렬 수행\n",
    "    quick_sort(array, start, right -1)\n",
    "    quick_sort(array, right+1, end)\n",
    "        \n",
    "quick_sort(array, 0, len(array)-1)\n",
    "print(array)"
   ]
  },
  {
   "cell_type": "code",
   "execution_count": null,
   "id": "dddc8909",
   "metadata": {},
   "outputs": [],
   "source": [
    "# 6-5.py 파이썬의 장점을 살린 퀵 정렬 소스코드\n",
    "array = [5,7,9,0,3,1,6,2,4,8]\n",
    "\n",
    "def quick_sort(array):\n",
    "    if len(array) <= 1:\n",
    "        return array\n",
    "    \n",
    "    pivot = array[0] # 피벗은 첫 번째 원소\n",
    "    tail = array[1:] #피벗을 제외한 리스트\n",
    "    \n",
    "    left_side = [x for x in tail if x <= pivot] #분할된 왼쪽 부분\n",
    "    right_side = [x for x in tail if x > pivot] #분할된 오른쪽 부분\n",
    "    \n",
    "    #분할 이후 왼쪽 부분과 오른쪽 부분에서 각각 정렬을 수행하고, 전체 리스트를 반환\n",
    "    return quick_sort(left_side)+[pivot]+quick_sort(right_side)\n",
    "\n",
    "print(quick_sort(array))"
   ]
  },
  {
   "cell_type": "markdown",
   "id": "a967d127",
   "metadata": {},
   "source": [
    "### 예제) 계수 정렬\n",
    "- 항상 리스트를 정의해야하므로 공간 복잡도가 다른 정렬 방법에 비해 커질 수 있음\n",
    "- 따라서 동일한 값을 가지는 데이터가 여러 개 등장할 때 적합\n",
    "- 데이터의 특성을 파악하기 어렵다면 퀵 정렬을 이용하는 것이 유리\n",
    "- 시간 복잡도 O(N+K)"
   ]
  },
  {
   "cell_type": "code",
   "execution_count": 1,
   "id": "0af9fb3b",
   "metadata": {},
   "outputs": [
    {
     "name": "stdout",
     "output_type": "stream",
     "text": [
      "0 0 1 1 2 2 3 4 5 5 6 7 8 9 9 "
     ]
    }
   ],
   "source": [
    "# 6-6.py 계수 정렬 소스코드\n",
    "\n",
    "#모든 원소의 값이 0보다 크거나 같다고 가정\n",
    "array = [7,5,9,0,3,1,6,2,9,1,4,8,0,5,2]\n",
    "#모든 범위를 포함하는 리스트 선언(모든 값은 0으로 초기화)\n",
    "count = [0]*(max(array)+1)\n",
    "\n",
    "for i in range(len(array)):\n",
    "    count[array[i]] += 1 # 각 데이터에 해당하는 인덱스의 값 증가\n",
    "    \n",
    "for i in range(len(count)): #리스트에 기록된 정렬 정보 확인\n",
    "    for j in range(count[i]):\n",
    "        print(i, end =' ')"
   ]
  },
  {
   "cell_type": "markdown",
   "id": "f327d5fa",
   "metadata": {},
   "source": [
    "### 예제) 파이썬 기본 정렬 라이브러리\n",
    "- sorted(), sort()\n",
    "문제에서 별도의 요구가 없다면 단순히 정렬해야 하는 상황에서는 기본 정렬 라이브러리를 사용, 데이터 범위가 한정되어 있으며 더 빠르게 동작해야 할 때는 계수 정렬 사용"
   ]
  },
  {
   "cell_type": "markdown",
   "id": "5002bc7c",
   "metadata": {},
   "source": [
    "## 위에서 아래로"
   ]
  },
  {
   "cell_type": "code",
   "execution_count": 10,
   "id": "7311bd35",
   "metadata": {},
   "outputs": [
    {
     "name": "stdout",
     "output_type": "stream",
     "text": [
      "3\n",
      "15\n",
      "27\n",
      "31\n",
      "[15, 27, 31]\n"
     ]
    }
   ],
   "source": [
    "n = int(input())\n",
    "\n",
    "array  = []\n",
    "for i in range(n):\n",
    "    array.append(int(input()))\n",
    "\n",
    "array.sort()\n",
    "print(array)"
   ]
  },
  {
   "cell_type": "markdown",
   "id": "b40783b6",
   "metadata": {},
   "source": [
    "### 성적이 낮은 순서로 학생 출력하기"
   ]
  },
  {
   "cell_type": "code",
   "execution_count": 35,
   "id": "023dd7d5",
   "metadata": {},
   "outputs": [
    {
     "name": "stdout",
     "output_type": "stream",
     "text": [
      "2\n",
      "홍길동 95\n",
      "이순신 77\n",
      "이순신 홍길동 "
     ]
    }
   ],
   "source": [
    "n = int(input())\n",
    "\n",
    "array = []\n",
    "for i in range(n):\n",
    "    input_data = input().split()\n",
    "    array.append((input_data[0], int(input_data[1])))\n",
    "\n",
    "def setting(data):\n",
    "    return data[1]\n",
    "\n",
    "result = sorted(array, key= setting)\n",
    "for j in range(n):\n",
    "    print(result[j][0], end= ' ')"
   ]
  },
  {
   "cell_type": "markdown",
   "id": "71ae7ca4",
   "metadata": {},
   "source": [
    "피드백: 한글, 숫자 한번에 input하는 방법 다시 보기 "
   ]
  },
  {
   "cell_type": "markdown",
   "id": "bda195ce",
   "metadata": {},
   "source": [
    "### 두 배열의 원소 교체"
   ]
  },
  {
   "cell_type": "code",
   "execution_count": 41,
   "id": "a001de83",
   "metadata": {},
   "outputs": [
    {
     "name": "stdout",
     "output_type": "stream",
     "text": [
      "5 3\n",
      "1 2 5 4 3\n",
      "5 5 6 6 5\n",
      "[6, 6, 5, 4, 5]\n"
     ]
    }
   ],
   "source": [
    "n, k = map(int, input().split())\n",
    "a = list(map(int, input().split()))\n",
    "b = list(map(int, input().split()))\n",
    "\n",
    "a.sort()\n",
    "b.sort(reverse=True)\n",
    "\n",
    "for i in range(k):\n",
    "    if a[i] < b[i]:\n",
    "        a[i], b[i] = b[i], a[i]\n",
    "    else:\n",
    "        break\n",
    "print(a)\n",
    "print(sum(a))"
   ]
  },
  {
   "cell_type": "markdown",
   "id": "3dfe3d10",
   "metadata": {},
   "source": [
    "피드백: if문 꼭 추가해서 a 리스트의 원소가 b 리스트의 원소보다 작을때만 switch"
   ]
  },
  {
   "cell_type": "markdown",
   "id": "e64dad3d",
   "metadata": {},
   "source": [
    "# 이진 탐색\n",
    "\n",
    "### 예제) 순차 탐색\n",
    "리스트 안에 있는 특정한 데이터를 찾기 위해 앞에서부터 데이터를 하나씩 차례대로 확인하는 방법 \n",
    "- 시간 복잡도 O(N)"
   ]
  },
  {
   "cell_type": "code",
   "execution_count": 44,
   "id": "4f413e3e",
   "metadata": {},
   "outputs": [
    {
     "name": "stdout",
     "output_type": "stream",
     "text": [
      "생성할 원소 개수 입력한 다음 한 칸 띄고 찾을 문자열을 입력하세요.\n",
      "5 Dongbin\n",
      "앞서 적은 원소 개수만큼 문자열을 입력하세요. 구분은 띄어쓰기 한 칸으로 합니다.\n",
      "Hanul Jonggu Dongbin Taeil Sangwook\n",
      "3\n"
     ]
    }
   ],
   "source": [
    "# 7-1.py 순차 탐색 소스코드\n",
    "\n",
    "#순차 탐색 소스코드 구현\n",
    "def sequential_search(n, target, array):\n",
    "    #각 원소를 하나씩 확인하며\n",
    "    for i in range(n):\n",
    "        #현재의 원소가 찾고자 하는 원소와 동일한 경우\n",
    "        if array[i] == target:\n",
    "            return i+1 #현재의 위치 반환\n",
    "        \n",
    "print(\"생성할 원소 개수 입력한 다음 한 칸 띄고 찾을 문자열을 입력하세요.\")\n",
    "input_data = input().split()\n",
    "n = int(input_data[0]) #원소의 개수\n",
    "target = input_data[1] #찾고자 하는 문자열\n",
    "\n",
    "print(\"앞서 적은 원소 개수만큼 문자열을 입력하세요. 구분은 띄어쓰기 한 칸으로 합니다.\")\n",
    "array = input().split()\n",
    "\n",
    "#순차 탐색 수행 결과 출력\n",
    "print(sequential_search(n, target, array))\n",
    "\n"
   ]
  },
  {
   "cell_type": "markdown",
   "id": "4f1177bf",
   "metadata": {},
   "source": [
    "### 예제) 이진 탐색\n",
    "- 배열 내부의 데이터가 정렬되어 있어야만 사용할 수 있음\n",
    "- 시간 복잡도 O(logN)"
   ]
  },
  {
   "cell_type": "code",
   "execution_count": 45,
   "id": "3e100b2f",
   "metadata": {},
   "outputs": [
    {
     "name": "stdout",
     "output_type": "stream",
     "text": [
      "10 7\n",
      "1 3 5 7 9 11 13 15 17 19\n",
      "4\n"
     ]
    }
   ],
   "source": [
    "# 7-2.py 재귀 함수로 구현한 이진 탐색 소스코드\n",
    "\n",
    "# 이진 탐색 소스코드 구현(재귀 함수)\n",
    "def binary_search(array, target, start, end):\n",
    "    if start > end:\n",
    "        return None\n",
    "    mid = (start + end) // 2\n",
    "    #찾은 경우 중간점 인덱스 반환\n",
    "    if array[mid] == target:\n",
    "        return mid\n",
    "    #중간점의 값보다 찾고자 하는 값이 작은 경우 왼쪽 확인\n",
    "    elif array[mid] > target:\n",
    "        return binary_search(array, target, start, mid-1)\n",
    "    #중간점의 값보다 찾고자 하는 값이 큰 경우 오른쪽 확인\n",
    "    else:\n",
    "        return binary_search(array, target, mid+1, end)\n",
    "    \n",
    "# n(원소의 개수)과 target(찾고자 하는 문자열)을 입력받기\n",
    "n, target = list(map(int, input().split()))\n",
    "# 전체 원소 입력받기\n",
    "array = list(map(int, input().split()))\n",
    "\n",
    "#이진 탐색 수행 결과 출력\n",
    "result = binary_search(array, target, 0, n-1)\n",
    "if result == None:\n",
    "    print(\"원소가 존재하지 않습니다.\")\n",
    "else:\n",
    "    print(result+1)\n"
   ]
  },
  {
   "cell_type": "code",
   "execution_count": 47,
   "id": "aab7aaab",
   "metadata": {},
   "outputs": [
    {
     "name": "stdout",
     "output_type": "stream",
     "text": [
      "10 7\n",
      "1 3 5 7 9 11 13 15 17 19\n",
      "4\n"
     ]
    }
   ],
   "source": [
    "# 7-3.py 반복문으로 구현한 이진 탐색 소스코드\n",
    "\n",
    "# 이진 탐색 소스코드 구현(반복문)\n",
    "def binary_search(array, target, start, end):\n",
    "    while start <= end:\n",
    "        mid = (start+end) // 2\n",
    "        #찾은 경우 중간점 인덱스 반환\n",
    "        if array[mid] == target:\n",
    "            return mid\n",
    "        #중간점의 값보다 찾고자 하는 값이 작은 경우 왼쪽 확인\n",
    "        elif array[mid] > target:\n",
    "            end = mid - 1\n",
    "        #중간점의 값보다 찾고자 하는 값이 큰 경우 오른쪽 확인\n",
    "        else:\n",
    "            start = mid +1\n",
    "    return None\n",
    "\n",
    "# n(원소의 개수)과 target(찾고자 하는 문자열)을 입력받기\n",
    "n, target = list(map(int, input().split()))\n",
    "# 전체 원소 입력 받기\n",
    "array = list(map(int, input().split()))\n",
    "\n",
    "#이진 탐색 수행 결과 출력\n",
    "result = binary_search(array, target, 0, n-1)\n",
    "if result == None:\n",
    "    print(\"원소가 존재하지 않습니다.\")\n",
    "else:\n",
    "    print(result + 1)"
   ]
  },
  {
   "cell_type": "markdown",
   "id": "fec79061",
   "metadata": {},
   "source": [
    "### 예제) 트리 자료구조\n",
    "- 큰 데이터를 처리하는 소프트웨어는 대부분 데이터를 트리 자료구조로 저장해서 이진탐색과 같은 탐색 기법을 이용해 빠르게 탐색 가능\n",
    "- 이진 탐색 트리 : 왼쪽 자식 노드 < 부모노드 < 오른쪽 자식 노드 "
   ]
  },
  {
   "cell_type": "code",
   "execution_count": 50,
   "id": "0ca266c5",
   "metadata": {},
   "outputs": [
    {
     "name": "stdout",
     "output_type": "stream",
     "text": [
      "\n"
     ]
    }
   ],
   "source": [
    "# 7-4.py 한 줄 입력받아 출력하는 소스코드\n",
    "import sys\n",
    "# 하나의 문자열 데이터 입력받기 \n",
    "input_data = sys.stdin.readline().rstrip()\n",
    "# 입력받은 문자열 그대로 출력\n",
    "print(input_data)"
   ]
  },
  {
   "cell_type": "markdown",
   "id": "238720ea",
   "metadata": {},
   "source": [
    "### 부품 찾기"
   ]
  },
  {
   "cell_type": "code",
   "execution_count": 58,
   "id": "a8c09642",
   "metadata": {},
   "outputs": [
    {
     "name": "stdout",
     "output_type": "stream",
     "text": [
      "5\n",
      "8 3 7 9 2\n",
      "3\n",
      "5 7 9\n",
      "no yes yes "
     ]
    }
   ],
   "source": [
    "n= int(input())\n",
    "array = list(map(int, input().split()))\n",
    "m = int(input())\n",
    "target = list(map(int, input().split()))\n",
    "\n",
    "def binary_search(array, target, start, end):\n",
    "    while start <= end:\n",
    "        mid = (start+end) // 2\n",
    "        #찾은 경우 중간점 인덱스 반환\n",
    "        if array[mid] == target:\n",
    "            return mid\n",
    "        #중간점의 값보다 찾고자 하는 값이 작은 경우 왼쪽 확인\n",
    "        elif array[mid] > target:\n",
    "            end = mid - 1\n",
    "        #중간점의 값보다 찾고자 하는 값이 큰 경우 오른쪽 확인\n",
    "        else:\n",
    "            start = mid +1\n",
    "    return None\n",
    "\n",
    "#이진 탐색 수행 결과 출력\n",
    "for i in target:\n",
    "    result = binary_search(array, i, 0, n-1)\n",
    "    if result != None:\n",
    "        print(\"yes\", end=' ')\n",
    "    else:\n",
    "        print(\"no\", end=' ')"
   ]
  },
  {
   "cell_type": "markdown",
   "id": "d3f0e632",
   "metadata": {},
   "source": [
    "피드백: 이진 탐색 수행 결과 출력에서\n",
    "target 하나하나에 있는 원소를 찾아야함\n",
    "따라서 for문 사용해서 binary_search(array, i, 0, n-1) "
   ]
  },
  {
   "cell_type": "code",
   "execution_count": 61,
   "id": "2e619448",
   "metadata": {},
   "outputs": [
    {
     "name": "stdout",
     "output_type": "stream",
     "text": [
      "5\n",
      "8 3 7 9 2\n",
      "3\n",
      "5 7 9\n",
      "no yes yes "
     ]
    }
   ],
   "source": [
    "# 하나하나 탐색\n",
    "n= int(input())\n",
    "array = list(map(int, input().split()))\n",
    "m = int(input())\n",
    "target = list(map(int, input().split()))\n",
    "\n",
    "for i in target:\n",
    "    if i in array:\n",
    "        print('yes', end=' ')\n",
    "    else:\n",
    "        print('no', end=' ')"
   ]
  },
  {
   "cell_type": "markdown",
   "id": "af7442ca",
   "metadata": {},
   "source": [
    "### 떡볶이 떡 만들기 "
   ]
  },
  {
   "cell_type": "code",
   "execution_count": 80,
   "id": "9633df48",
   "metadata": {},
   "outputs": [
    {
     "name": "stdout",
     "output_type": "stream",
     "text": [
      "4 6\n",
      "19 15 10 17\n",
      "15\n"
     ]
    }
   ],
   "source": [
    "n, m = list(map(int, input().split(' ')))\n",
    "array = list(map(int, input().split()))\n",
    "\n",
    "start = 0\n",
    "end = max(array)\n",
    "\n",
    "result = 0\n",
    "while(start <= end):\n",
    "    total = 0\n",
    "    mid = (start+end)//2\n",
    "    for x in array:\n",
    "        if x > mid:\n",
    "            total += x - mid\n",
    "    if total < m:\n",
    "        end = mid - 1\n",
    "    else:\n",
    "        result = mid\n",
    "        start = mid + 1\n",
    "        \n",
    "print(result)"
   ]
  }
 ],
 "metadata": {
  "kernelspec": {
   "display_name": "Python 3",
   "language": "python",
   "name": "python3"
  },
  "language_info": {
   "codemirror_mode": {
    "name": "ipython",
    "version": 3
   },
   "file_extension": ".py",
   "mimetype": "text/x-python",
   "name": "python",
   "nbconvert_exporter": "python",
   "pygments_lexer": "ipython3",
   "version": "3.8.8"
  }
 },
 "nbformat": 4,
 "nbformat_minor": 5
}
