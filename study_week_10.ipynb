{
 "cells": [
  {
   "cell_type": "markdown",
   "id": "a89ea0ee",
   "metadata": {},
   "source": [
    "# Q14. 외벽 점검"
   ]
  },
  {
   "cell_type": "markdown",
   "id": "5110d14c",
   "metadata": {},
   "source": [
    "원형을 일자 형태의 벽으로 변경-> 길이를 2배로 늘리면 됨"
   ]
  },
  {
   "cell_type": "code",
   "execution_count": 19,
   "id": "05b9773e",
   "metadata": {},
   "outputs": [],
   "source": [
    "from itertools import permutations\n",
    "def solution(n, week, dist):\n",
    "    #길이를 2배로 늘려서 '원형'을 일자 형태로 변경\n",
    "    length = len(weak)\n",
    "    for i in range(length):\n",
    "        weak.append(weak[i]+n)\n",
    "    answer = len(dist)+1 #투입할 친구의 최솟값을 찾아야 하므로 len(dist)+1 로 초기화\n",
    "    #0부터 length-1까지의 위치를 각각 시작점으로 설정\n",
    "    for start in range(length):\n",
    "        #친구를 나열하는 모든 경우의 수 각각에 대하여 확인\n",
    "        for friends in list(permutations(dist, len(dist))):\n",
    "            count = 1 #투입할 친구의 수\n",
    "            #해당 친구가 점검할 수 있는 마지막 위치\n",
    "            position = weak[start]+friends[count-1]\n",
    "            #시작점부터 모든 취약 지점을 확인\n",
    "            for index in range(start, start+length):\n",
    "                #점검할 수 있는 위치를 벗어나는 경우\n",
    "                if position < weak[index]:\n",
    "                    count += 1\n",
    "                    if count > len(dist): #더 투입이 불가능하다면 종료\n",
    "                        break\n",
    "                    position = weak[index]+friends[count-1]\n",
    "            answer = min(answer, count) #최솟값 계산\n",
    "    if answer > len(dist):\n",
    "        return -1\n",
    "    return answer\n",
    "    "
   ]
  },
  {
   "cell_type": "code",
   "execution_count": 20,
   "id": "67d695c8",
   "metadata": {},
   "outputs": [
    {
     "data": {
      "text/plain": [
       "2"
      ]
     },
     "execution_count": 20,
     "metadata": {},
     "output_type": "execute_result"
    }
   ],
   "source": [
    "n = 12\n",
    "weak = [1,5,6,10]\n",
    "dist = [1,2,3,4]\n",
    "solution(n, weak, dist)"
   ]
  },
  {
   "cell_type": "markdown",
   "id": "6e2f09ca",
   "metadata": {},
   "source": [
    "# Q15. 특정 거리의 도시 찾기"
   ]
  },
  {
   "cell_type": "markdown",
   "id": "e5802ae2",
   "metadata": {},
   "source": [
    "* 모든 간선의 비용이 동일할 때(이 문제에서는 모두 1임) 너비 우선 탐색(BFS)를 사용해 해결가능\n",
    "* 너비 우선 탐색은 가까운 노드부터 차례로 찾는 것이다."
   ]
  },
  {
   "cell_type": "code",
   "execution_count": 11,
   "id": "a665cbe0",
   "metadata": {},
   "outputs": [
    {
     "name": "stdout",
     "output_type": "stream",
     "text": [
      "4 4 1 1\n",
      "1 2\n",
      "1 3\n",
      "2 3\n",
      "2 4\n",
      "2\n",
      "3\n"
     ]
    }
   ],
   "source": [
    "n, m, k, x = map(int, input().split())\n",
    "graph = [[] for _ in range(n+1)]\n",
    "\n",
    "for _ in range(m):\n",
    "    a, b = map(int, input().split())\n",
    "    graph[a].append(b)\n",
    "\n",
    "#모든 도시에 대한 최단 거리 초기화\n",
    "distance = [-1]*(n+1)\n",
    "distance[x] = 0 #출발 도시까지의 거리는 0으로 설정\n",
    "\n",
    "#너비 우선 탐색\n",
    "q = deque([x])\n",
    "while q:\n",
    "    now = q.popleft()\n",
    "    #현재 도시에서 이동할 수 있는 모든 도시를 확인\n",
    "    for next_node in graph[now]:\n",
    "        #아직 방문하지 않은 도시라면\n",
    "        if distance[next_node] == -1:\n",
    "            #최단 거리 갱신\n",
    "            distance[next_node] = distance[now]+1\n",
    "            q.append(next_node)\n",
    "\n",
    "#최단 거리가 K인 모든 도시의 번호를 오름차순으로 출력\n",
    "check = False\n",
    "for i in range(1, n+1):\n",
    "    if distance[i]==k:\n",
    "        print(i)\n",
    "        check = True\n",
    "\n",
    "#만약 최단 거리가 K인 도시가 없다면, -1 출력\n",
    "if check == False:\n",
    "    print(-1)\n",
    "    \n",
    "    "
   ]
  },
  {
   "cell_type": "markdown",
   "id": "7a860224",
   "metadata": {},
   "source": [
    "# Q16. 연구소"
   ]
  },
  {
   "cell_type": "markdown",
   "id": "7d12f24c",
   "metadata": {},
   "source": [
    "벽을 세울 수 있는 모든 경우의 수 다 계산 + 안전 영역 크기 계산(DFS이용)"
   ]
  },
  {
   "cell_type": "code",
   "execution_count": 14,
   "id": "dd3120c6",
   "metadata": {},
   "outputs": [
    {
     "name": "stdout",
     "output_type": "stream",
     "text": [
      "7 7\n",
      "2 0 0 0 1 1 0\n",
      "0 0 1 0 1 2 0\n",
      "0 1 1 0 1 0 0\n",
      "0 1 0 0 0 0 0\n",
      "0 0 0 0 0 1 1\n",
      "0 1 0 0 0 0 0\n",
      "0 1 0 0 0 0 0\n",
      "27\n"
     ]
    }
   ],
   "source": [
    "n, m = map(int, input().split())\n",
    "data = [] #초기 맵 리스트\n",
    "temp = [[0]*m for _ in range(n)]\n",
    "\n",
    "\n",
    "for _ in range(m):\n",
    "    data.append(list(map(int, input().split())))\n",
    "\n",
    "#4가지 이동 방향에 대한 리스트\n",
    "dx = [-1, 0, 1, 0]\n",
    "dy = [0, 1, 0, -1]\n",
    "\n",
    "result = 0\n",
    "\n",
    "#깊이 우선 탐색(DFS)을 이용해 각 바이러스가 사방으로 퍼지도록 하기\n",
    "def virus(x, y):\n",
    "    for i in range(4):\n",
    "        nx = x+dx[i]\n",
    "        ny = y+dy[i]\n",
    "        #상, 하, 좌, 우 중에서 바이러스가 퍼질 수 있는 경우\n",
    "        if nx >= 0 and nx < n and ny >= 0 and ny < m:\n",
    "            if temp[nx][ny] == 0:\n",
    "                #해당 위치에 바이러스 배치하고, 다시 재귀적으로 수행\n",
    "                temp[nx][ny] = 2\n",
    "                virus(nx,ny)\n",
    "                \n",
    "#현재 맵에서 안전 영역의 크기 계산하는 메서드\n",
    "def get_score():\n",
    "    score = 0\n",
    "    for i in range(n):\n",
    "        for j in range(m):\n",
    "            if temp[i][j] == 0:\n",
    "                score += 1\n",
    "    return score\n",
    "\n",
    "#깊이 우선 탐색(DFS)를 이용해 울타리를 설치하면서, 매번 안전 영역의 크기 계산\n",
    "def dfs(count):\n",
    "    global result\n",
    "    #울타리가 3개 설치된 경우\n",
    "    if count == 3:\n",
    "        for i in range(n):\n",
    "            for j in range(m):\n",
    "                temp[i][j] = data[i][j]\n",
    "        #각 바이러스의 위치에서 전파 진행\n",
    "        for i in range(n):\n",
    "            for j in range(m):\n",
    "                if temp[i][j] == 2:\n",
    "                    virus(i,j)\n",
    "        #안전 영역의 최댓값 계산\n",
    "        result = max(result, get_score())\n",
    "        return\n",
    "    #빈 공간에 울타리 설치\n",
    "    for i in range(n):\n",
    "        for j in range(m):\n",
    "            if data[i][j] == 0:\n",
    "                data[i][j] = 1\n",
    "                count += 1\n",
    "                dfs(count)\n",
    "                data[i][j] = 0\n",
    "                count -= 1\n",
    "dfs(0)\n",
    "print(result)"
   ]
  }
 ],
 "metadata": {
  "kernelspec": {
   "display_name": "Python 3 (ipykernel)",
   "language": "python",
   "name": "python3"
  },
  "language_info": {
   "codemirror_mode": {
    "name": "ipython",
    "version": 3
   },
   "file_extension": ".py",
   "mimetype": "text/x-python",
   "name": "python",
   "nbconvert_exporter": "python",
   "pygments_lexer": "ipython3",
   "version": "3.8.12"
  }
 },
 "nbformat": 4,
 "nbformat_minor": 5
}
