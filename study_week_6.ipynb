{
 "cells": [
  {
   "cell_type": "markdown",
   "id": "049a3121",
   "metadata": {},
   "source": [
    "# Q1. 모험가 길드"
   ]
  },
  {
   "cell_type": "code",
   "execution_count": 13,
   "id": "904d584d",
   "metadata": {},
   "outputs": [
    {
     "name": "stdout",
     "output_type": "stream",
     "text": [
      "5\n",
      "2 3 1 2 2\n",
      "2\n"
     ]
    }
   ],
   "source": [
    "n = int(input())\n",
    "data= list(map(int, input().split()))\n",
    "data.sort()\n",
    "\n",
    "group = 0\n",
    "\n",
    "member = 0\n",
    "\n",
    "for i in data:\n",
    "    member += 1 #현재 그룹에 모험가 포함\n",
    "    if member >= i:\n",
    "        group +=1\n",
    "        member = 0\n",
    "print(group)"
   ]
  },
  {
   "cell_type": "markdown",
   "id": "ea8e6495",
   "metadata": {},
   "source": [
    "# Q2. 곱하기 혹은 더하기"
   ]
  },
  {
   "cell_type": "code",
   "execution_count": 21,
   "id": "7ce524cd",
   "metadata": {},
   "outputs": [
    {
     "name": "stdout",
     "output_type": "stream",
     "text": [
      "567\n",
      "210\n"
     ]
    }
   ],
   "source": [
    "data= list(map(int, input()))\n",
    "\n",
    "result = data[0]\n",
    "for i in range(1, len(data)):\n",
    "    if data[i] == 0:\n",
    "        result += data[i]\n",
    "    else:\n",
    "        if result == 0 :\n",
    "            result += 1\n",
    "        result *= data[i]\n",
    "print(result)"
   ]
  },
  {
   "cell_type": "markdown",
   "id": "8ef5b4b1",
   "metadata": {},
   "source": [
    "# Q3. 문자열 뒤집기"
   ]
  },
  {
   "cell_type": "code",
   "execution_count": 30,
   "id": "06ca6670",
   "metadata": {},
   "outputs": [
    {
     "name": "stdout",
     "output_type": "stream",
     "text": [
      "0001100\n",
      "1\n"
     ]
    }
   ],
   "source": [
    "data=input()\n",
    "count0 = 0\n",
    "count1 = 0\n",
    "\n",
    "if data[0] == '1':\n",
    "    count0 += 1\n",
    "else:\n",
    "    count1 += 1\n",
    "\n",
    "# 두 번째 원소부터 모든 원소를 확인하며\n",
    "for i in range(len(data)-1):\n",
    "    if data[i] != data[i+1]:\n",
    "        # 다음 수에서 1로 바뀌는 경우\n",
    "        if data[i+1] == '1':\n",
    "            count0 += 1\n",
    "        else:\n",
    "            count1 += 1\n",
    "\n",
    "print(min(count0, count1))"
   ]
  }
 ],
 "metadata": {
  "kernelspec": {
   "display_name": "Python 3",
   "language": "python",
   "name": "python3"
  },
  "language_info": {
   "codemirror_mode": {
    "name": "ipython",
    "version": 3
   },
   "file_extension": ".py",
   "mimetype": "text/x-python",
   "name": "python",
   "nbconvert_exporter": "python",
   "pygments_lexer": "ipython3",
   "version": "3.8.8"
  }
 },
 "nbformat": 4,
 "nbformat_minor": 5
}
