{
 "cells": [
  {
   "cell_type": "markdown",
   "id": "6940696f",
   "metadata": {},
   "source": [
    "# Q4. 만들 수 없는 금액"
   ]
  },
  {
   "cell_type": "code",
   "execution_count": 2,
   "id": "e4973fde",
   "metadata": {},
   "outputs": [
    {
     "name": "stdout",
     "output_type": "stream",
     "text": [
      "5\n",
      "3 2 1 1 9\n",
      "8\n"
     ]
    }
   ],
   "source": [
    "n = int(input())\n",
    "data= list(map(int, input().split()))\n",
    "data.sort()\n",
    "\n",
    "result = 1\n",
    "for i in data:\n",
    "    if result < i:\n",
    "        break\n",
    "    result += i\n",
    "    \n",
    "print(result)"
   ]
  },
  {
   "cell_type": "markdown",
   "id": "6053f827",
   "metadata": {},
   "source": [
    "# Q5. 볼링공 고르기"
   ]
  },
  {
   "cell_type": "code",
   "execution_count": 11,
   "id": "2c3cebca",
   "metadata": {
    "scrolled": true
   },
   "outputs": [
    {
     "name": "stdout",
     "output_type": "stream",
     "text": [
      "8 5\n",
      "1 5 4 3 2 4 5 2\n",
      "25\n"
     ]
    }
   ],
   "source": [
    "########### 내 코드 #######################\n",
    "from itertools import combinations \n",
    "\n",
    "n, m = map(int, input().split())\n",
    "data= list(map(int, input().split()))\n",
    "\n",
    "# 두 사람이 고를 수 있는 모든 볼링공 조합\n",
    "all_cases = list(combinations(data, 2))\n",
    "\n",
    "#같은 무게를 고른 경우를 제거한 경우\n",
    "result = 0\n",
    "for i in all_cases:\n",
    "    if i[0] != i[1]:\n",
    "        result += 1\n",
    "        \n",
    "\n",
    "print(result)"
   ]
  },
  {
   "cell_type": "code",
   "execution_count": 23,
   "id": "6e131386",
   "metadata": {},
   "outputs": [
    {
     "name": "stdout",
     "output_type": "stream",
     "text": [
      "8 5\n",
      "1 5 4 3 2 4 5 2\n",
      "25\n"
     ]
    }
   ],
   "source": [
    "######## 답안 코드 #########################\n",
    "n, m = map(int, input().split())\n",
    "data= list(map(int, input().split()))\n",
    "\n",
    "# 1부터 10까지의 무게를 담을 수 있는 리스트\n",
    "array = [0]*11\n",
    "\n",
    "for x in data:\n",
    "    #각 무게에 해당하는 볼링공의 개수 카운트\n",
    "    array[x] += 1\n",
    "\n",
    "result = 0\n",
    "# 1부터 m까지의 무게에 대하여 처리\n",
    "for i in range(1, m+1):\n",
    "    n -= array[i] #무게가 i인 볼링공의 개수(A가 선택할 수 있는 개수) 제외\n",
    "    result += array[i] * n #B가 선택하는 경우의 수와 곱하기\n",
    "\n",
    "print(result)"
   ]
  },
  {
   "cell_type": "markdown",
   "id": "1b007e80",
   "metadata": {},
   "source": [
    "# Q6. 무지의 먹방 라이브"
   ]
  },
  {
   "cell_type": "code",
   "execution_count": 11,
   "id": "3b2b0158",
   "metadata": {
    "scrolled": true
   },
   "outputs": [
    {
     "name": "stdout",
     "output_type": "stream",
     "text": [
      "3 2 1\n",
      "5\n",
      "0\n"
     ]
    }
   ],
   "source": [
    "food_times = list(map(int, input().split()))\n",
    "k = int(input())\n",
    "\n",
    "turn = k // len(food_times)\n",
    "loc = k % len(food_times)\n",
    "\n",
    "result = 0\n",
    "for i in range(len(food_times)):\n",
    "    if food_times[i] != 0:\n",
    "        result += 1\n",
    "    food_times[i] = food_times[i]-1\n",
    "        \n",
    "print(result)\n"
   ]
  },
  {
   "cell_type": "code",
   "execution_count": 4,
   "id": "7fe8aea4",
   "metadata": {},
   "outputs": [],
   "source": [
    "import heapq\n",
    "\n",
    "def solution(food_times, k):\n",
    "    #전체 음식을 먹는 시간보다 k가 크거나 같다면 -1\n",
    "    if sum(food_times) <= k:\n",
    "        return -1\n",
    "    \n",
    "    #시간이 작은 음식부터 빼야 하므로 우선순위 큐를 이용\n",
    "    q = []\n",
    "    for i in range(len(food_times)):\n",
    "        # (음식 시간, 음식 번호) 형태로 우선순위 큐에 삽입\n",
    "        heapq.heappush(q, (food_times[i], i+1))\n",
    "        \n",
    "    sum_value = 0 #먹기 위해 사용한 시간\n",
    "    previous = 0 # 직전에 다 먹은 음식 시간\n",
    "    length = len(food_times) #남은 음식의 개수\n",
    "    \n",
    "    #sum_value + (현재의 음식 시간-이전 음식 시간) * 현재 음식 개수와 k 비교\n",
    "    while sum_value + ((q[0][0] - previous)*length) <= k:\n",
    "        now = heapq.heappop(q)[0]\n",
    "        sum_value += (now- previous) * length\n",
    "        length -= 1 # 다 먹은 음식 제외\n",
    "        previous = now # 음식 시간 재설정\n",
    "        \n",
    "    #남은 음식 중에서 몇 번째 음식인지 확인하여 출력\n",
    "    result = sorted(q, key=lambda x: x[1]) #음식의 번호 기준으로 정렬\n",
    "    return result[(k - sum_value) % length][1]\n"
   ]
  },
  {
   "cell_type": "code",
   "execution_count": 5,
   "id": "48c9a196",
   "metadata": {},
   "outputs": [
    {
     "data": {
      "text/plain": [
       "1"
      ]
     },
     "execution_count": 5,
     "metadata": {},
     "output_type": "execute_result"
    }
   ],
   "source": [
    "solution([3,2,1],5)"
   ]
  }
 ],
 "metadata": {
  "kernelspec": {
   "display_name": "Python 3",
   "language": "python",
   "name": "python3"
  },
  "language_info": {
   "codemirror_mode": {
    "name": "ipython",
    "version": 3
   },
   "file_extension": ".py",
   "mimetype": "text/x-python",
   "name": "python",
   "nbconvert_exporter": "python",
   "pygments_lexer": "ipython3",
   "version": "3.8.8"
  }
 },
 "nbformat": 4,
 "nbformat_minor": 5
}
