{
 "cells": [
  {
   "cell_type": "markdown",
   "id": "ffc0c889",
   "metadata": {},
   "source": [
    "# 다이나믹 프로그래밍"
   ]
  },
  {
   "cell_type": "markdown",
   "id": "f65d016c",
   "metadata": {},
   "source": [
    "### 예제) 피보나치 수열"
   ]
  },
  {
   "cell_type": "code",
   "execution_count": 1,
   "id": "22e7de98",
   "metadata": {},
   "outputs": [
    {
     "name": "stdout",
     "output_type": "stream",
     "text": [
      "3\n"
     ]
    }
   ],
   "source": [
    "# 8-1.py 피보나치 함수 소스코드\n",
    "def fibo(x):\n",
    "    if x==1 or x==2:\n",
    "        return 1\n",
    "    return fibo(x-1)+fibo(x-2)\n",
    "\n",
    "print(fibo(4))"
   ]
  },
  {
   "cell_type": "markdown",
   "id": "7624238d",
   "metadata": {},
   "source": [
    "재귀함수를 이용하는 경우 시간 복잡도는 O(2^n)이므로, n이 커질수록 시간 복잡도가 기하급수적으로 증가한다. <br>\n",
    "따라서 다이나믹 프로그래밍을 이용해서 문제를 푸는 것이 좋다.\n",
    "\n",
    "다이나믹 프로그래밍은 다음 조건을 만족할 때 사용할 수 있다.\n",
    "- 큰 문제를 작은 문제로 나눌 수 있다.\n",
    "- 작은 문제에서 구한 정답은 그것을 포함하는 큰 문제에서도 동일하다.\n",
    "\n",
    "다이나믹 프로그래밍을 구현하는 방법 중 한 종류인 메모이제이션 기법을 통해 문제를 풀 수 있다. \n",
    "메모이제이션이란 한 번 구한 결과를 메모리 공간에 메모해두고 같은 식을 다시 호출하면 메모한 결과를 그대로 가져오는 기법을 의미한다."
   ]
  },
  {
   "cell_type": "code",
   "execution_count": 2,
   "id": "d9ca07a6",
   "metadata": {},
   "outputs": [
    {
     "name": "stdout",
     "output_type": "stream",
     "text": [
      "218922995834555169026\n"
     ]
    }
   ],
   "source": [
    "# 8-2.py 피보나치 수열 소스코드 (재귀적) - 탑다운 방식\n",
    "\n",
    "#한 번 계산된 결과를 메모이제이션하기 위한 리스트 초기화\n",
    "d = [0]*100\n",
    "\n",
    "#피보나치 함수를 재귀함수로 구현(탑다운 다이나믹 프로그래밍)\n",
    "def fibo(x):\n",
    "    #종료 조건\n",
    "    if x ==1 or x ==2:\n",
    "        return 1\n",
    "    #이미 계산한 적 있는 문제라면 그대로 반환 \n",
    "    if d[x] != 0:\n",
    "        return d[x]\n",
    "    #아직 계산하지 않은 문제라면 점화식에 따라서 피보나치 결과 반환\n",
    "    d[x] = fibo(x-1)+fibo(x-2)\n",
    "    return d[x]\n",
    "\n",
    "print(fibo(99))"
   ]
  },
  {
   "cell_type": "markdown",
   "id": "ca0b61e1",
   "metadata": {},
   "source": [
    "메모이제이션을 사용하면 8-1.py 처럼 계산한 걸 다시 계산하는 비효율적인 작동이 아니라 계산 결과 저장을 통해 한번만 계산하도록 작동된다. 8-2.py의 시간 복잡도는 O(N)이다. <br>\n",
    "\n",
    "이는 퀵 정렬과도 비슷한데, 차이가 있다면 다이나믹 프로그래밍은 문제들이 서로 영향을 미치고 있다는 점이다."
   ]
  },
  {
   "cell_type": "markdown",
   "id": "40167c4d",
   "metadata": {},
   "source": [
    "재귀함수를 사용하면 컴퓨터 시스템에서는 함수를 다시 호출했을 때 메모리 상에 적재되는 일련의 과정을 따라야 하므로 오버헤드가 발생할 수 있다. 따라서, 재귀 함수 대신에 반복문을 사용하면 오버헤드를 줄일 수 있다. "
   ]
  },
  {
   "cell_type": "code",
   "execution_count": 5,
   "id": "da2ea66d",
   "metadata": {},
   "outputs": [
    {
     "name": "stdout",
     "output_type": "stream",
     "text": [
      "f(6) "
     ]
    },
    {
     "data": {
      "text/plain": [
       "8"
      ]
     },
     "execution_count": 5,
     "metadata": {},
     "output_type": "execute_result"
    }
   ],
   "source": [
    "# 8-3.py 호출되는 함수 확인\n",
    "\n",
    "def pibo(x):\n",
    "    print('f('+str(x)+')', end=' ')\n",
    "    if x ==1 or x==2:\n",
    "        return 1\n",
    "    if d[x] != 0:\n",
    "        return d[x]\n",
    "    d[x] = pibo(x-1)+pibo(x-2)\n",
    "    return d[x]\n",
    "\n",
    "pibo(6)"
   ]
  },
  {
   "cell_type": "code",
   "execution_count": 6,
   "id": "3eafe1a5",
   "metadata": {},
   "outputs": [
    {
     "name": "stdout",
     "output_type": "stream",
     "text": [
      "218922995834555169026\n"
     ]
    }
   ],
   "source": [
    "# 8-4.py 피보나치 수열 소스코드 (반복적)- 보텀업 방식 \n",
    "\n",
    "#앞서 계산된 결과를 저장하기 위한 DP 테이블 초기화\n",
    "d = [0]*100\n",
    "\n",
    "#첫 번째 피보나치 수와 두 번째 피보나치 수는 1\n",
    "d[1] = 1\n",
    "d[2] = 1\n",
    "n = 99\n",
    "\n",
    "#피보나치 함수 반복문으로 구현(보텀업 다이나믹 프로그래밍)\n",
    "for i in range(3, n+1):\n",
    "    d[i] = d[i-1]+d[i-2]\n",
    "    \n",
    "print(d[n])"
   ]
  },
  {
   "cell_type": "markdown",
   "id": "f4f5bcf6",
   "metadata": {},
   "source": [
    "실제 문제를 풀 때는 보텀업 방식으로 푸는걸 권장한다."
   ]
  },
  {
   "cell_type": "markdown",
   "id": "161c3cf6",
   "metadata": {},
   "source": [
    "### 예제) 1로 만들기 "
   ]
  },
  {
   "cell_type": "code",
   "execution_count": 7,
   "id": "1870d51b",
   "metadata": {},
   "outputs": [
    {
     "name": "stdout",
     "output_type": "stream",
     "text": [
      "26\n",
      "3\n"
     ]
    }
   ],
   "source": [
    "x = int(input())\n",
    "\n",
    "d = [0]*30001\n",
    "\n",
    "\n",
    "for i in range(2, x+1):\n",
    "    # 현재의 수에서 1을 빼는 경우\n",
    "    d[i] = d[i-1] + 1\n",
    "    # 현재의 수가 2로 나누어 떨어지는 경우\n",
    "    if i%2 == 0:\n",
    "        d[i] = min(d[i],d[i//2]+1)\n",
    "    # 현재의 수가 3으로 나누어 떨어지는 경우\n",
    "    if i%3 == 0:\n",
    "        d[i] = min(d[i], d[i//3]+1)\n",
    "    # 현재의 수가 5로 나누어 떨어지는 경우\n",
    "    if i%5 == 0:\n",
    "        d[i] = min(d[i], d[i//5]+1)\n",
    "print(d[x])"
   ]
  },
  {
   "cell_type": "markdown",
   "id": "37e6b12e",
   "metadata": {},
   "source": [
    "피드백: 보텀업 방식으로 생각하기, 수열의 점화식 생각하기"
   ]
  },
  {
   "cell_type": "markdown",
   "id": "b373ba09",
   "metadata": {},
   "source": [
    "### 예제) 개미 전사"
   ]
  },
  {
   "cell_type": "code",
   "execution_count": 14,
   "id": "0f1f7140",
   "metadata": {},
   "outputs": [
    {
     "name": "stdout",
     "output_type": "stream",
     "text": [
      "4\n",
      "1 3 1 5\n",
      "8\n"
     ]
    }
   ],
   "source": [
    "n = int(input())\n",
    "data = list(map(int, input().split()))\n",
    "\n",
    "d = [0]*100\n",
    "\n",
    "d[0]= data[0]\n",
    "d[1]= max(data[1], data[0])\n",
    "for i in range(2, n):\n",
    "    d[i] = max(d[i-1], d[i-2]+data[i])\n",
    "    \n",
    "print(d[n-1])"
   ]
  },
  {
   "cell_type": "markdown",
   "id": "e39b4b76",
   "metadata": {},
   "source": [
    "피드백: 처음에 d[0]과 d[1]은 따로 저장하기, 보텀업 방식으로"
   ]
  },
  {
   "cell_type": "markdown",
   "id": "28f4bef0",
   "metadata": {},
   "source": [
    "### 예제) 바닥 공사"
   ]
  },
  {
   "cell_type": "code",
   "execution_count": 15,
   "id": "3596eaca",
   "metadata": {},
   "outputs": [
    {
     "name": "stdout",
     "output_type": "stream",
     "text": [
      "3\n",
      "5\n"
     ]
    }
   ],
   "source": [
    "n = int(input())\n",
    "\n",
    "d = [0]*1001\n",
    "\n",
    "d[1] = 1\n",
    "d[2] = 3\n",
    "for i in range(3, n+1):\n",
    "    d[i] = (d[i-1]+d[i-2]*2) % 796796\n",
    "\n",
    "print(d[n])"
   ]
  },
  {
   "cell_type": "code",
   "execution_count": 2,
   "id": "62b86c34",
   "metadata": {},
   "outputs": [
    {
     "name": "stdout",
     "output_type": "stream",
     "text": [
      "2 15\n",
      "2\n",
      "3\n",
      "5\n"
     ]
    }
   ],
   "source": [
    "n, m = list(map(int, input().split()))\n",
    "array = []\n",
    "for i in range(n):\n",
    "    array.append(int(input()))\n",
    "\n",
    "#한 번 계산된 결과를 저장하기 위한 DP 테이블 초기화\n",
    "d=[10001]*(m+1)\n",
    "\n",
    "#다이나믹 프로그래밍 진행(보텀업)\n",
    "d[0]=0\n",
    "for i in range(n):\n",
    "    for j in range(array[i], m+1):\n",
    "        if d[j-array[i]] != 10001: #(i-k)원을 만드는 방법이 존재하는 경우\n",
    "            d[j] = min(d[j], d[j-array[i]]+1)\n",
    "\n",
    "#계산된 결과 출력\n",
    "if d[m]==10001: #최종적으로 M원을 만드는 방법이 없는 경우 \n",
    "    print(-1)\n",
    "else:\n",
    "    print(d[m])"
   ]
  }
 ],
 "metadata": {
  "kernelspec": {
   "display_name": "Python 3",
   "language": "python",
   "name": "python3"
  },
  "language_info": {
   "codemirror_mode": {
    "name": "ipython",
    "version": 3
   },
   "file_extension": ".py",
   "mimetype": "text/x-python",
   "name": "python",
   "nbconvert_exporter": "python",
   "pygments_lexer": "ipython3",
   "version": "3.8.8"
  }
 },
 "nbformat": 4,
 "nbformat_minor": 5
}
