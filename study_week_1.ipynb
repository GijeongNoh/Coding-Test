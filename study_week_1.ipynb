{
 "cells": [
  {
   "cell_type": "markdown",
   "id": "7439f667",
   "metadata": {},
   "source": [
    "# 그리디"
   ]
  },
  {
   "cell_type": "markdown",
   "id": "6e3efbc3",
   "metadata": {},
   "source": [
    "현재 상황에서 지금 당장 좋은 것만 고르는 방법"
   ]
  },
  {
   "cell_type": "markdown",
   "id": "fbd7a35f",
   "metadata": {},
   "source": [
    "- 문제에서 '가장 큰 순서대로', '가장 작은 순서대로'와 같은 기준을 제시\n",
    "- 정렬 알고리즘과 짝을 이뤄 출제되는 경우가 많음\n",
    "- '거스름돈' 문제가 대표적인 그리디 알고리즘 문제"
   ]
  },
  {
   "cell_type": "markdown",
   "id": "f90c964d",
   "metadata": {},
   "source": [
    "### 예제 ) 거스름돈 문제 (최소의 동전 개수)\n",
    "- '가장 큰 화폐 단위부터' 돈을 거슬러 주기 "
   ]
  },
  {
   "cell_type": "code",
   "execution_count": 1,
   "id": "4a5f14b9",
   "metadata": {},
   "outputs": [
    {
     "name": "stdout",
     "output_type": "stream",
     "text": [
      "6\n"
     ]
    }
   ],
   "source": [
    "n = 1260\n",
    "count = 0\n",
    "\n",
    "#큰 단위의 화폐부터 차례대로 확인\n",
    "coin_types = [500, 100, 50, 10]\n",
    "\n",
    "for coin in coin_types:\n",
    "    count += n // coin #해당 화폐로 거슬러 줄 수 있는 동전의 개수 세기\n",
    "    n %= coin\n",
    "    \n",
    "print(count)"
   ]
  },
  {
   "cell_type": "markdown",
   "id": "f5de3594",
   "metadata": {},
   "source": [
    "### 큰 수의 법칙"
   ]
  },
  {
   "cell_type": "code",
   "execution_count": 32,
   "id": "88b8c413",
   "metadata": {},
   "outputs": [
    {
     "name": "stdout",
     "output_type": "stream",
     "text": [
      "5 8 3\n",
      "2 4 5 4 6\n",
      "수행시간: 0.0\n",
      "결과: 46\n"
     ]
    }
   ],
   "source": [
    "############## 내 코드 #################\n",
    "import time\n",
    "\n",
    "n, m, k = map(int, input().split())\n",
    "data= list(map(int, input().split()))\n",
    "\n",
    "# 시간 측정\n",
    "start_time = time.time()\n",
    "\n",
    "data_sort = sorted(data) # 데이터 정렬\n",
    "\n",
    "result = 0\n",
    "\n",
    "for j in range(m//(k+1)):\n",
    "    for i in range(k):\n",
    "        result += data_sort[n-1]\n",
    "    result += data_sort[n-2]\n",
    "for l in range(m%(k+1)):\n",
    "    result += data_sort[n-1]\n",
    "\n",
    "\n",
    "# 시간 측정 끝 \n",
    "end_time = time.time()\n",
    "print(\"수행시간:\", end_time-start_time)\n",
    "print(\"결과:\", result)\n",
    "\n",
    "# 시간 복잡도가 너무 큼 -> 책의 두 번째 solution 참고 "
   ]
  },
  {
   "cell_type": "code",
   "execution_count": 33,
   "id": "93b4b741",
   "metadata": {},
   "outputs": [
    {
     "name": "stdout",
     "output_type": "stream",
     "text": [
      "5 8 3\n",
      "2 4 5 4 6\n",
      "수행시간: 0.0\n",
      "46\n"
     ]
    }
   ],
   "source": [
    "############## 책 코드 - solution 1 #################\n",
    "import time\n",
    "\n",
    "# N, M, K를 공백으로 구분하여 입력받기\n",
    "n, m, k = map(int, input().split())\n",
    "# N개의 수를 공백으로 구분하여 입력받기 \n",
    "data= list(map(int, input().split()))\n",
    "\n",
    "# 시간 측정\n",
    "start_time = time.time()\n",
    "\n",
    "data.sort()# 입력받은 수를 정렬하기\n",
    "first = data[n-1]\n",
    "second= data[n-2]\n",
    "\n",
    "result = 0\n",
    "\n",
    "while True:\n",
    "    for i in range(k):\n",
    "        if m ==0:\n",
    "            break\n",
    "        result += first\n",
    "        m -= 1\n",
    "    if m == 0 :\n",
    "        break\n",
    "    result += second\n",
    "    m -= 1\n",
    "\n",
    "end_time = time.time()\n",
    "print(\"수행시간:\", end_time-start_time)\n",
    "print(result)\n"
   ]
  },
  {
   "cell_type": "code",
   "execution_count": 34,
   "id": "95c75422",
   "metadata": {},
   "outputs": [
    {
     "name": "stdout",
     "output_type": "stream",
     "text": [
      "5 8 3\n",
      "2 4 5 4 6\n",
      "수행시간: 0.0\n",
      "결과: 46\n"
     ]
    }
   ],
   "source": [
    "############## 책 코드 - solution 2#################\n",
    "import time\n",
    "\n",
    "n, m, k = map(int, input().split())\n",
    "data= list(map(int, input().split()))\n",
    "\n",
    "# 시간 측정\n",
    "start_time = time.time()\n",
    "\n",
    "data.sort()# 입력받은 수를 정렬하기\n",
    "first = data[n-1]\n",
    "second= data[n-2]\n",
    "\n",
    "#가장 큰 수가 더해지는 횟수 계산\n",
    "count = int(m/(k+1))*k\n",
    "count += m % (k+1)\n",
    "\n",
    "result = 0\n",
    "result += (count)*first\n",
    "result += (m-count)*second\n",
    "\n",
    "# 시간 측정 끝 \n",
    "end_time = time.time()\n",
    "print(\"수행시간:\", end_time-start_time)\n",
    "print(\"결과:\", result)"
   ]
  },
  {
   "cell_type": "markdown",
   "id": "90a812bf",
   "metadata": {},
   "source": [
    "### 숫자 카드 게임"
   ]
  },
  {
   "cell_type": "code",
   "execution_count": 55,
   "id": "85b01d59",
   "metadata": {},
   "outputs": [
    {
     "name": "stdout",
     "output_type": "stream",
     "text": [
      "2 4\n",
      "7 3 1 8\n",
      "3 3 3 4\n",
      "결과: 3\n",
      "결과 값이 속한 행: 2\n"
     ]
    }
   ],
   "source": [
    "################ 내 코드 ##########################\n",
    "\n",
    "# 각 행마다 가장 작은 수 찾은 뒤 그 수 중에서 가장 큰 수 찾기 \n",
    "n, m = map(int, input().split())\n",
    "\n",
    "min_group = []\n",
    "for i in range(n):\n",
    "    data = list(map(int, input().split()))\n",
    "    min_group.append(min(data))\n",
    "\n",
    "result = max(min_group)\n",
    "result_row = min_group.index(result) + 1\n",
    "\n",
    "print(\"결과:\", result)\n",
    "print(\"결과 값이 속한 행:\", result_row)"
   ]
  },
  {
   "cell_type": "markdown",
   "id": "f656b2a9",
   "metadata": {},
   "source": [
    "### 1이 될 때까지"
   ]
  },
  {
   "cell_type": "markdown",
   "id": "fc329b39",
   "metadata": {},
   "source": [
    "- 최대한 많이 나누기를 수행하면 됨"
   ]
  },
  {
   "cell_type": "code",
   "execution_count": 71,
   "id": "1eb14ea8",
   "metadata": {},
   "outputs": [
    {
     "name": "stdout",
     "output_type": "stream",
     "text": [
      "25 5\n",
      "2\n"
     ]
    }
   ],
   "source": [
    "################ 내 코드 ##########################\n",
    "n, k = map(int, input().split())\n",
    "\n",
    "result = 0 \n",
    "while True:\n",
    "    if n % k ==0 :\n",
    "        n //=k\n",
    "        result += 1\n",
    "        if n ==1 :\n",
    "            break\n",
    "    else : \n",
    "        n -= 1\n",
    "        result +=1\n",
    "\n",
    "print(result)"
   ]
  },
  {
   "cell_type": "markdown",
   "id": "8a011b8c",
   "metadata": {},
   "source": [
    "# 구현\n",
    "- 완전 탐색: 모든 경우의 수를 주저 없이 다 계산하는 해결 방법\n",
    "- 시뮬레이션: 문제에서 제시한 알고리즘을 한 단계씩 차례대로 직접 수행하는 문제\n",
    "\n",
    "파이썬을 기준으로 내 코드가 1초에 2000만 번의 연산을 수행한다고 가정 후 문제 풀기 "
   ]
  },
  {
   "cell_type": "markdown",
   "id": "ff70dfef",
   "metadata": {},
   "source": [
    "### 예제) 상하좌우"
   ]
  },
  {
   "cell_type": "code",
   "execution_count": 1,
   "id": "5e3444ef",
   "metadata": {},
   "outputs": [
    {
     "name": "stdout",
     "output_type": "stream",
     "text": [
      "5\n",
      "R R R U D D\n",
      "3 4\n"
     ]
    }
   ],
   "source": [
    "# N을 입력받기 \n",
    "n = int(input())\n",
    "x, y = 1, 1\n",
    "plans = input().split()\n",
    "\n",
    "#L,R,U,D에 따른 이동 방향\n",
    "dx = [0,0,-1,1]\n",
    "dy = [-1,1,0,0]\n",
    "move_types = ['L','R','U','D']\n",
    "\n",
    "#이동 계획을 하나씩 확인\n",
    "for plan in plans:\n",
    "    #이동 후 좌표 구하기\n",
    "    for i in range(len(move_types)):\n",
    "        if plan == move_types[i]:\n",
    "            nx = x + dx[i]\n",
    "            ny = y + dy[i]\n",
    "        \n",
    "    #공간을 벗어나는 경우 무시\n",
    "    if nx < 1 or ny < 1 or nx > n or ny > n:\n",
    "        continue\n",
    "    #이동 수행\n",
    "    x,y = nx, ny\n",
    "print(x,y)"
   ]
  },
  {
   "cell_type": "markdown",
   "id": "62f814a8",
   "metadata": {},
   "source": [
    "### 예제) 시각\n",
    "- 완전 탐색 문제 : 전체 데이터의 개수가 100만 개 이하일 때 완전 탐색을 사용하면 적절하다."
   ]
  },
  {
   "cell_type": "code",
   "execution_count": 2,
   "id": "b2f528b1",
   "metadata": {},
   "outputs": [
    {
     "name": "stdout",
     "output_type": "stream",
     "text": [
      "5\n",
      "11475\n"
     ]
    }
   ],
   "source": [
    "# H를 입력받기\n",
    "h = int(input())\n",
    "\n",
    "count = 0 \n",
    "for i in range(h+1):\n",
    "    for j in range(60):\n",
    "        for k in range(60):\n",
    "            # 매 시각 안에 '3'이 포함되어 있다면 카운트 증가\n",
    "            if '3' in str(i) + str(j) + str(k):\n",
    "                count += 1\n",
    "print(count)"
   ]
  },
  {
   "cell_type": "markdown",
   "id": "a168143d",
   "metadata": {},
   "source": [
    "### 왕실의 나이트"
   ]
  },
  {
   "cell_type": "code",
   "execution_count": 26,
   "id": "a2d23d5c",
   "metadata": {
    "scrolled": true
   },
   "outputs": [
    {
     "name": "stdout",
     "output_type": "stream",
     "text": [
      "a1\n",
      "2\n"
     ]
    }
   ],
   "source": [
    "################내 코드 #################\n",
    "input_data = input()\n",
    "x = int(input_data[1])\n",
    "y = int(ord(input_data[0])) - int(ord('a')) + 1\n",
    "\n",
    "dxy = [(2,1), (2,-1), (-2,1), (-2,-1), (1,2), (-1,2), (1,-2), (-1,-2)]\n",
    "\n",
    "result =0\n",
    "for dxy in dxy:\n",
    "    nx= x + dxy[0]\n",
    "    ny = y + dxy[1]\n",
    "    if nx >= 1 and ny >= 1 and nx <= 8 and ny <= 8:\n",
    "        result +=1\n",
    "        \n",
    "print(result)\n",
    "        \n",
    "        "
   ]
  },
  {
   "cell_type": "markdown",
   "id": "1ab0b860",
   "metadata": {},
   "source": [
    "### 게임 개발 "
   ]
  },
  {
   "cell_type": "code",
   "execution_count": 2,
   "id": "52094b3f",
   "metadata": {},
   "outputs": [
    {
     "name": "stdout",
     "output_type": "stream",
     "text": [
      "4 4\n",
      "1 1 0\n",
      "1 1 1 1\n",
      "1 0 0 1\n",
      "1 1 0 1\n",
      "1 1 1 1\n",
      "3\n"
     ]
    }
   ],
   "source": [
    "n, m = map(int, input().split())\n",
    "x, y, d = map(int, input().split())\n",
    "data = []\n",
    "for i in range(n):\n",
    "     data.append(list(map(int, input().split())))\n",
    "\n",
    "\n",
    "#북, 동, 남, 서         \n",
    "dx = [-1,0,1,0]\n",
    "dy = [0,1,0,-1]\n",
    "\n",
    "\n",
    "def turn_left():\n",
    "    global d\n",
    "    d -= 1\n",
    "    if d == -1:\n",
    "        d = 3\n",
    "\n",
    "\n",
    "count = 1\n",
    "turn = 0\n",
    "while True:\n",
    "    turn_left()\n",
    "    nx = x + dx[d]\n",
    "    ny = y + dy[d]\n",
    "    if data[nx][ny] ==0:\n",
    "        data[nx][ny] = 1\n",
    "        x=nx\n",
    "        y=ny\n",
    "        count += 1\n",
    "    else:\n",
    "        turn +=1\n",
    "    if turn ==4:\n",
    "        nx = x - dx[d]\n",
    "        ny = y - dx[d] \n",
    "        if data[nx][ny] ==0 :\n",
    "            x = nx\n",
    "            y = ny\n",
    "        else:\n",
    "            break\n",
    "        turn = 0\n",
    "        \n",
    "        \n",
    "print(count)"
   ]
  },
  {
   "cell_type": "markdown",
   "id": "91b66127",
   "metadata": {},
   "source": [
    "# DFS/BFS\n",
    "- 탐색 알고리즘\n",
    "- DFS (스택 이용) : 깊이 우선 탐색 (그래프에서 깊은 부분을 우선적으로 탐색하는 알고리즘)<br>\n",
    "이 알고리즘은 특정한 경로로 탐색하다가 특정한 상황에서 최대한 깊숙이 들어가서 노드를 방문한 후, 다시 돌아가 다른 경로로 탐색한다.\n",
    "- BFS (큐 이용) : 너비 우선 탐색 ( 가까운 노트부터 탐색하는 알고리즘)\n"
   ]
  },
  {
   "cell_type": "markdown",
   "id": "9b7fd83b",
   "metadata": {},
   "source": [
    "### 예제) 스택 (후입선출)"
   ]
  },
  {
   "cell_type": "code",
   "execution_count": 5,
   "id": "5866a6f3",
   "metadata": {},
   "outputs": [
    {
     "name": "stdout",
     "output_type": "stream",
     "text": [
      "[5, 2, 3]\n",
      "[5, 2]\n",
      "[2, 5]\n"
     ]
    }
   ],
   "source": [
    "stack = []\n",
    "stack.append(5)\n",
    "stack.append(2)\n",
    "stack.append(3)\n",
    "print(stack)\n",
    "stack.pop()\n",
    "print(stack) #최하단 원소부터 출력\n",
    "print(stack[::-1]) #최상단 원소부터 출력"
   ]
  },
  {
   "cell_type": "markdown",
   "id": "5fe2cb6e",
   "metadata": {},
   "source": [
    "### 예제) 큐 (선입선출)"
   ]
  },
  {
   "cell_type": "code",
   "execution_count": 8,
   "id": "f4644546",
   "metadata": {},
   "outputs": [
    {
     "name": "stdout",
     "output_type": "stream",
     "text": [
      "deque([3, 7, 1, 4])\n",
      "deque([4, 1, 7, 3])\n"
     ]
    },
    {
     "data": {
      "text/plain": [
       "[4, 1, 7, 3]"
      ]
     },
     "execution_count": 8,
     "metadata": {},
     "output_type": "execute_result"
    }
   ],
   "source": [
    "from collections import deque\n",
    "\n",
    "#큐(Queue) 구현을 위해 deque 라이브러리 사용\n",
    "queue = deque()\n",
    "\n",
    "queue.append(5)\n",
    "queue.append(2)\n",
    "queue.append(3)\n",
    "queue.append(7)\n",
    "queue.popleft() #먼저 들어온 것 삭제 \n",
    "queue.append(1)\n",
    "queue.append(4)\n",
    "queue.popleft() #먼저 들어온 것 삭제 \n",
    "\n",
    "print(queue)\n",
    "queue.reverse() #다음 출력을 위해 역순으로 바꾸기\n",
    "print(queue)\n",
    "\n",
    "#deque를 list 자료형으로 바꾸기\n",
    "list(queue)"
   ]
  },
  {
   "cell_type": "markdown",
   "id": "a57d3357",
   "metadata": {},
   "source": [
    "### 예제) 재귀 함수\n",
    "- 자기 자신을 다시 호출하는 함수"
   ]
  },
  {
   "cell_type": "code",
   "execution_count": 13,
   "id": "8d977fc2",
   "metadata": {},
   "outputs": [
    {
     "name": "stdout",
     "output_type": "stream",
     "text": [
      "반복적으로 구현: 120\n",
      "재귀적으로 구현: 120\n"
     ]
    }
   ],
   "source": [
    "# 재귀함수를 이용해서 factorial 풀기\n",
    "\n",
    "#반복적으로 구현한 n!\n",
    "def factorial_iterative(n):\n",
    "    result = 1\n",
    "    #1부터 n까지의 수를 차례대로 곱하기\n",
    "    for i in range(1, n+1):\n",
    "        result *= i\n",
    "    return result\n",
    "\n",
    "#재귀적으로 구현한 n!\n",
    "def factorial_recursive(n):\n",
    "    if n <= 1:\n",
    "        return 1\n",
    "    # n! = n*(n-1)!를 그대로 코드로 작성하기\n",
    "    return n * factorial_recursive(n-1)\n",
    "\n",
    "#각각의 방식으로 구현한 n! 출력(n=5)\n",
    "print('반복적으로 구현:', factorial_iterative(5))\n",
    "print('재귀적으로 구현:', factorial_recursive(5))\n",
    "\n"
   ]
  },
  {
   "cell_type": "markdown",
   "id": "bc00812d",
   "metadata": {},
   "source": [
    "### 예제) DFS"
   ]
  },
  {
   "cell_type": "markdown",
   "id": "914a8ef6",
   "metadata": {},
   "source": [
    "- 인접 행렬 방식"
   ]
  },
  {
   "cell_type": "code",
   "execution_count": 18,
   "id": "4a51a394",
   "metadata": {},
   "outputs": [
    {
     "name": "stdout",
     "output_type": "stream",
     "text": [
      "[[0, 7, 5], [7, 0, 9999999999], [5, 9999999999, 0]]\n"
     ]
    }
   ],
   "source": [
    "INF = 9999999999 #무한의 비용 선언\n",
    "\n",
    "#2차원 리스트를 이용해 인접 행렬 표현\n",
    "graph = [\n",
    "    [0,7,5],\n",
    "    [7,0,INF],\n",
    "    [5,INF,0]\n",
    "]\n",
    "print(graph)"
   ]
  },
  {
   "cell_type": "markdown",
   "id": "cfb94269",
   "metadata": {},
   "source": [
    "- 인접 리스트 방식"
   ]
  },
  {
   "cell_type": "code",
   "execution_count": 19,
   "id": "44bde8dd",
   "metadata": {},
   "outputs": [
    {
     "name": "stdout",
     "output_type": "stream",
     "text": [
      "[[(1, 7), (2, 5)], [(0, 7)], [(0, 5)]]\n"
     ]
    }
   ],
   "source": [
    "#행(row)이 3개인 2차원 리스트로 인접 리스트 표현\n",
    "graph = [[] for _ in range(3)]\n",
    "\n",
    "#노드 0에 연결된 노드 정보 저장(노드, 거리)\n",
    "graph[0].append((1,7))\n",
    "graph[0].append((2,5))\n",
    "\n",
    "#노드 1에 연결된 노드 정보 저장(노드, 거리)\n",
    "graph[1].append((0,7))\n",
    "\n",
    "#노드 2에 연결된 노드 정보 저장(노드, 거리)\n",
    "graph[2].append((0,5))\n",
    "\n",
    "print(graph)"
   ]
  },
  {
   "cell_type": "markdown",
   "id": "4fe91cfc",
   "metadata": {},
   "source": [
    "메모리 - 인접 리스트 방식이 더 효율적이다. <br>\n",
    "속도 - 인접 행렬 방식이 더 빠르다."
   ]
  },
  {
   "cell_type": "markdown",
   "id": "af26246a",
   "metadata": {},
   "source": [
    "- DFS 예제"
   ]
  },
  {
   "cell_type": "code",
   "execution_count": 21,
   "id": "5eeea79d",
   "metadata": {},
   "outputs": [
    {
     "name": "stdout",
     "output_type": "stream",
     "text": [
      "1 2 7 6 8 3 4 5 "
     ]
    }
   ],
   "source": [
    "# DFS 메서드 정의\n",
    "def dfs(graph, v, visited):\n",
    "    # 현재 노드를 방문 처리\n",
    "    visited[v] = True\n",
    "    print(v, end =' ')\n",
    "    #현재 노드와 연결된 다른 노드를 재귀적으로 방문\n",
    "    for i in graph[v]:\n",
    "        if not visited[i]:\n",
    "            dfs(graph, i, visited)\n",
    "         \n",
    " # 각 노드가 연결된 정보를 리스트 자료형으로 표현(2차원 리스트)\n",
    "graph = [\n",
    "    [],\n",
    "    [2,3,8],\n",
    "    [1,7],\n",
    "    [1,4,5],\n",
    "    [3,5],\n",
    "    [3,4],\n",
    "    [7],\n",
    "    [2,6,8],\n",
    "    [1,7]\n",
    "]\n",
    "    \n",
    "# 각 노드가 방문된 정보를 리스트 자료형으로 표현(1차원 리스트)\n",
    "visited = [False]*9\n",
    "\n",
    "#정의된 DFS 함수 호출\n",
    "dfs(graph, 1, visited)"
   ]
  },
  {
   "cell_type": "markdown",
   "id": "a8d2bf5d",
   "metadata": {},
   "source": [
    "-  BFS 예제"
   ]
  },
  {
   "cell_type": "code",
   "execution_count": 23,
   "id": "02966386",
   "metadata": {},
   "outputs": [
    {
     "name": "stdout",
     "output_type": "stream",
     "text": [
      "1 2 3 8 7 4 5 6 "
     ]
    }
   ],
   "source": [
    "from collections import deque\n",
    "\n",
    "#BFS 메서드 정의\n",
    "def bfs(graph, start, visited):\n",
    "    #큐(Queue) 구현을 위해 deque 라이브러리 사용\n",
    "    queue = deque([start])\n",
    "    #현재 노드를 방문 처리\n",
    "    visited[start] = True\n",
    "    #큐가 빌 때까지 반복\n",
    "    while queue:\n",
    "        #큐에서 하나의 원소를 뽑아 출력\n",
    "        v = queue.popleft()\n",
    "        print(v, end=' ')\n",
    "        #해당 원소와 연결된, 아직 방문하지 않은 원소들을 큐에 삽입\n",
    "        for i in graph[v]:\n",
    "            if not visited[i]:\n",
    "                queue.append(i)\n",
    "                visited[i] = True\n",
    "                \n",
    "# 각 노드가 연결된 정보를 리스트 자료형으로 표현(2차원 리스트)\n",
    "graph = [\n",
    "    [],\n",
    "    [2,3,8],\n",
    "    [1,7],\n",
    "    [1,4,5],\n",
    "    [3,5],\n",
    "    [3,4],\n",
    "    [7],\n",
    "    [2,6,8],\n",
    "    [1,7]\n",
    "]\n",
    "    \n",
    "# 각 노드가 방문된 정보를 리스트 자료형으로 표현(1차원 리스트)\n",
    "visited = [False]*9\n",
    "\n",
    "#정의된 DFS 함수 호출\n",
    "bfs(graph, 1, visited)"
   ]
  },
  {
   "cell_type": "code",
   "execution_count": null,
   "id": "44b23895",
   "metadata": {},
   "outputs": [],
   "source": []
  },
  {
   "cell_type": "markdown",
   "id": "a5eb79f0",
   "metadata": {},
   "source": [
    "### 음료수 얼려 먹기 (DFS)"
   ]
  },
  {
   "cell_type": "code",
   "execution_count": 4,
   "id": "06c76112",
   "metadata": {},
   "outputs": [
    {
     "name": "stdout",
     "output_type": "stream",
     "text": [
      "4 5\n",
      "00110\n",
      "00011\n",
      "11111\n",
      "00000\n",
      "3\n"
     ]
    }
   ],
   "source": [
    "n, m = map(int, input().split())\n",
    "\n",
    "graph = []\n",
    "for i in range(n):\n",
    "    graph.append(list(map(int, input())))\n",
    "\n",
    "def dfs(x,y):\n",
    "    if x <= -1 or x >= n or y <= -1 or y >= m:\n",
    "        return False\n",
    "    if graph[x][y] == 0:\n",
    "        graph[x][y]=1\n",
    "        dfs(x-1, y)\n",
    "        dfs(x, y-1)\n",
    "        dfs(x+1, y)\n",
    "        dfs(x, y+1)\n",
    "        return True\n",
    "    return False\n",
    "\n",
    "result = 0\n",
    "for i in range(n):\n",
    "    for j in range(m):\n",
    "        if dfs(i,j) == True:\n",
    "            result += 1\n",
    "\n",
    "print(result)"
   ]
  },
  {
   "cell_type": "markdown",
   "id": "23381ad0",
   "metadata": {},
   "source": [
    "### 미로 탈출 (BFS)"
   ]
  },
  {
   "cell_type": "code",
   "execution_count": 29,
   "id": "4bb07b63",
   "metadata": {},
   "outputs": [
    {
     "name": "stdout",
     "output_type": "stream",
     "text": [
      "5 6 \n",
      "101010\n",
      "111111\n",
      "000001\n",
      "111111\n",
      "111111\n",
      "10\n"
     ]
    }
   ],
   "source": [
    "from collections import deque\n",
    "\n",
    "n,m = map(int, input().split())\n",
    "graph=[]\n",
    "for i in range(n):\n",
    "    graph.append(list(map(int, input())))\n",
    "    \n",
    "#이동할 네 방향 정의(상,하,좌,우)\n",
    "dx = [-1,1,0,0]\n",
    "dy = [0,0,-1,1]\n",
    "\n",
    "#bfs 소스코드 구현\n",
    "def bfs(x,y):\n",
    "    queue = deque()\n",
    "    queue.append((x,y))\n",
    "    \n",
    "    while queue:\n",
    "        x,y = queue.popleft()\n",
    "        \n",
    "        for i in range(4):\n",
    "            nx = x+dx[i]\n",
    "            ny = y+dy[i]\n",
    "            \n",
    "            #미로 찾기 공간을 벗어난 경우 무시\n",
    "            if nx <0 or ny <0 or nx>=n or ny>=m:\n",
    "                continue\n",
    "            #벽인 경우 무시\n",
    "            if graph[nx][ny] == 0:\n",
    "                continue\n",
    "            #해당 노드를 처음 방문하는 경우에만 최단 거리 기록\n",
    "            if graph[nx][ny] == 1:\n",
    "                graph[nx][ny] = graph[x][y]+1\n",
    "                queue.append((nx, ny))\n",
    "    #가장 오른쪽 아래까지의 최단 거리 반환\n",
    "    return graph[n-1][m-1]\n",
    "    \n",
    "#bfs를 수행한 결과 출력\n",
    "print(bfs(0,0))"
   ]
  }
 ],
 "metadata": {
  "kernelspec": {
   "display_name": "Python 3",
   "language": "python",
   "name": "python3"
  },
  "language_info": {
   "codemirror_mode": {
    "name": "ipython",
    "version": 3
   },
   "file_extension": ".py",
   "mimetype": "text/x-python",
   "name": "python",
   "nbconvert_exporter": "python",
   "pygments_lexer": "ipython3",
   "version": "3.8.8"
  }
 },
 "nbformat": 4,
 "nbformat_minor": 5
}
