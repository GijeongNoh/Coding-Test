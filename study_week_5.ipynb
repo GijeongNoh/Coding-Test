{
 "cells": [
  {
   "cell_type": "markdown",
   "id": "88ff3154",
   "metadata": {},
   "source": [
    "# 그래프 이론\n",
    "인접행렬(Adjacency Matrix): 2차원 배열을 사용하는 방식 -> 노드가 적은 경우 이거 사용(시간 때문에)\n",
    "인접리스트(Adjacency List): 리스트를 사용하는 방식 -> 노드가 많은 경우 이거 사용"
   ]
  },
  {
   "cell_type": "markdown",
   "id": "fa013946",
   "metadata": {},
   "source": [
    "### 서로소 집합 자료구조\n",
    "서로소 부분 집합들로 나누어진 원소들의 데이터를 처리하기 위한 자료구조\n",
    "- 합집합과 찾기 연산으로 구성\n",
    "- 트리 자료구조를 이용해 집합 표현\n",
    "- 서로소 집합 알고리즘으로 루트를 찾기 위해서는 재귀적으로 부모를 거슬러 올라가야함"
   ]
  },
  {
   "cell_type": "code",
   "execution_count": 2,
   "id": "be3c6cd3",
   "metadata": {},
   "outputs": [
    {
     "name": "stdout",
     "output_type": "stream",
     "text": [
      "6 4\n",
      "1 4\n",
      "2 3\n",
      "2 4\n",
      "5 6\n",
      "각 원소가 속한 집합:1 1 1 1 5 5 \n",
      "부모 테이블:1 1 2 1 5 5 "
     ]
    }
   ],
   "source": [
    "# 10-1.py 기본적인 서로소 집합 알고리즘 소스코드\n",
    "# 특정 원소가 속한 집합을 찾기\n",
    "def find_parent(parent, x):\n",
    "    #루트 노드가 아니라면, 루트 노드를 찾을 때까지 재귀적으로 호출\n",
    "    if parent[x] != x:\n",
    "        return find_parent(parent, parent[x])\n",
    "    return x\n",
    "\n",
    "# 두 원소가 속한 집합을 합치기\n",
    "def union_parent(parent, a, b):\n",
    "    a = find_parent(parent, a)\n",
    "    b = find_parent(parent, b)\n",
    "    if a < b:\n",
    "        parent[b] = a\n",
    "    else:\n",
    "        parent[a] = b\n",
    "    \n",
    "# 노드의 개수와 간선(union 연산)의 개수 입력받기\n",
    "v, e = map(int, input().split())\n",
    "parent = [0]*(v+1) # 부모 테이블 초기화\n",
    "\n",
    "# 부모 테이블상에서, 부모를 자기 자신으로 초기화\n",
    "for i in range(1, v+1):\n",
    "    parent[i] = i\n",
    "\n",
    "# union 연산을 각각 수행\n",
    "for i in range(e):\n",
    "    a, b = map(int, input().split())\n",
    "    union_parent(parent, a, b)\n",
    "    \n",
    "# 각 원소가 속한 집합 출력\n",
    "print('각 원소가 속한 집합:', end = '')\n",
    "for i in range(1, v+1):\n",
    "    print(find_parent(parent, i), end=' ')\n",
    "\n",
    "print()\n",
    "\n",
    "#부모 테이블 내용 출력\n",
    "print('부모 테이블:', end='')\n",
    "for i in range(1, v+1):\n",
    "    print(parent[i], end=' ')"
   ]
  },
  {
   "cell_type": "code",
   "execution_count": 3,
   "id": "75a47d09",
   "metadata": {},
   "outputs": [
    {
     "name": "stdout",
     "output_type": "stream",
     "text": [
      "6 4\n",
      "1 4\n",
      "2 3\n",
      "2 4\n",
      "5 6\n",
      "각 원소가 속한 집합:1 1 1 1 5 5 \n",
      "부모 테이블:1 1 1 1 5 5 "
     ]
    }
   ],
   "source": [
    "# 10-3.py 개선된 서로소 집합 알고리즘 소스코드\n",
    "# 특정 원소가 속한 집합을 찾기\n",
    "def find_parent(parent, x):\n",
    "    #루트 노드가 아니라면, 루트 노드를 찾을 때까지 재귀적으로 호출\n",
    "    if parent[x] != x:\n",
    "        parent[x] = find_parent(parent, parent[x])\n",
    "    return parent[x]\n",
    "\n",
    "# 두 원소가 속한 집합을 합치기\n",
    "def union_parent(parent, a, b):\n",
    "    a = find_parent(parent, a)\n",
    "    b = find_parent(parent, b)\n",
    "    if a < b:\n",
    "        parent[b] = a\n",
    "    else:\n",
    "        parent[a] = b\n",
    "    \n",
    "# 노드의 개수와 간선(union 연산)의 개수 입력받기\n",
    "v, e = map(int, input().split())\n",
    "parent = [0]*(v+1) # 부모 테이블 초기화\n",
    "\n",
    "# 부모 테이블상에서, 부모를 자기 자신으로 초기화\n",
    "for i in range(1, v+1):\n",
    "    parent[i] = i\n",
    "\n",
    "# union 연산을 각각 수행\n",
    "for i in range(e):\n",
    "    a, b = map(int, input().split())\n",
    "    union_parent(parent, a, b)\n",
    "    \n",
    "# 각 원소가 속한 집합 출력\n",
    "print('각 원소가 속한 집합:', end = '')\n",
    "for i in range(1, v+1):\n",
    "    print(find_parent(parent, i), end=' ')\n",
    "\n",
    "print()\n",
    "\n",
    "#부모 테이블 내용 출력\n",
    "print('부모 테이블:', end='')\n",
    "for i in range(1, v+1):\n",
    "    print(parent[i], end=' ')"
   ]
  },
  {
   "cell_type": "markdown",
   "id": "a1f11c11",
   "metadata": {},
   "source": [
    "서로소 집합을 활용한 사이클 판별(간선에 방향이 없는 무향 그래프에서만 적용 가능)"
   ]
  },
  {
   "cell_type": "code",
   "execution_count": 4,
   "id": "5e62c7e3",
   "metadata": {},
   "outputs": [
    {
     "name": "stdout",
     "output_type": "stream",
     "text": [
      "3 3\n",
      "1 2\n",
      "1 3\n",
      "2 3\n",
      "사이클이 발생했습니다.\n"
     ]
    }
   ],
   "source": [
    "# 10-4.py 서로소 집합을 활용한 사이클 판별 소스코드\n",
    "# 특정 원소가 속한 집합을 찾기\n",
    "def find_parent(parent, x):\n",
    "    #루트 노드가 아니라면, 루트 노드를 찾을 때까지 재귀적으로 호출\n",
    "    if parent[x] != x:\n",
    "        parent[x] = find_parent(parent, parent[x])\n",
    "    return parent[x]\n",
    "\n",
    "# 두 원소가 속한 집합을 합치기\n",
    "def union_parent(parent, a, b):\n",
    "    a = find_parent(parent, a)\n",
    "    b = find_parent(parent, b)\n",
    "    if a < b:\n",
    "        parent[b] = a\n",
    "    else:\n",
    "        parent[a] = b\n",
    "    \n",
    "# 노드의 개수와 간선(union 연산)의 개수 입력받기\n",
    "v, e = map(int, input().split())\n",
    "parent = [0]*(v+1) # 부모 테이블 초기화\n",
    "\n",
    "# 부모 테이블상에서, 부모를 자기 자신으로 초기화\n",
    "for i in range(1, v+1):\n",
    "    parent[i] = i\n",
    "\n",
    "cycle = False\n",
    "\n",
    "for i in range(e):\n",
    "    a, b = map(int, input().split())\n",
    "    #사이클이 발생한 경우 종료\n",
    "    if find_parent(parent, a) == find_parent(parent, b):\n",
    "        cycle = True\n",
    "        break\n",
    "    #사이클이 발생하지 않았다면 합집합(union) 수행\n",
    "    union_parent(parent, a, b)\n",
    "    \n",
    "if cycle:\n",
    "    print(\"사이클이 발생했습니다.\")\n",
    "else:\n",
    "    print(\"사이클이 발생하지 않았습니다.\")"
   ]
  },
  {
   "cell_type": "markdown",
   "id": "23b3b6de",
   "metadata": {},
   "source": [
    "### 신장 트리\n",
    "하나의 그래프가 있을 때 모든 노드를 포함하면서 사이클이 존재하지 않는 부분 그래프를 의미"
   ]
  },
  {
   "cell_type": "markdown",
   "id": "69cd019d",
   "metadata": {},
   "source": [
    "### <크루스칼 알고리즘>"
   ]
  },
  {
   "cell_type": "markdown",
   "id": "cb984d91",
   "metadata": {},
   "source": [
    "신장 트리 중에서 최소 비용으로 만들 수 있는 신장 트리를 찾는 알고리즘\n",
    "1. 간선 데이터를 비용에 따라 오름차순으로 정렬한다.\n",
    "2. 간선을 하나씩 확인하며 현재의 간선이 사이클을 발생시키는지 확인한다.\n",
    "    - 사이클이 발생하지 않는 경우 최소 신장 트리에 포함시킨다.\n",
    "    - 사이클이 발생하는 경우 최소 신장 트리에 포함시키지 않는다.\n",
    "3. 모든 간선에 대하여 2번의 과정 반복\n",
    "\n",
    "최종적으로 신장 트리에 포함되는 간선의 개수가 '노드의 개수-1'과 같다는 특징이 있다."
   ]
  },
  {
   "cell_type": "code",
   "execution_count": 5,
   "id": "9b7e8c39",
   "metadata": {},
   "outputs": [
    {
     "name": "stdout",
     "output_type": "stream",
     "text": [
      "7 9\n",
      "1 2 29\n",
      "1 5 75\n",
      "2 3 35\n",
      "2 6 34\n",
      "3 4 7\n",
      "4 6 23\n",
      "4 7 13\n",
      "5 6 53\n",
      "6 7 25\n",
      "159\n"
     ]
    }
   ],
   "source": [
    "# 10-5.py 크루스칼 알고리즘 소스코드\n",
    "# 특정 원소가 속한 집합을 찾기\n",
    "def find_parent(parent, x):\n",
    "    #루트 노드가 아니라면, 루트 노드를 찾을 때까지 재귀적으로 호출\n",
    "    if parent[x] != x:\n",
    "        parent[x] = find_parent(parent, parent[x])\n",
    "    return parent[x]\n",
    "\n",
    "# 두 원소가 속한 집합을 합치기\n",
    "def union_parent(parent, a, b):\n",
    "    a = find_parent(parent, a)\n",
    "    b = find_parent(parent, b)\n",
    "    if a < b:\n",
    "        parent[b] = a\n",
    "    else:\n",
    "        parent[a] = b\n",
    "    \n",
    "# 노드의 개수와 간선(union 연산)의 개수 입력받기\n",
    "v, e = map(int, input().split())\n",
    "parent = [0]*(v+1) # 부모 테이블 초기화\n",
    "\n",
    "# 모든 간선을 담을 리스트와 최종 비용을 담을 변수\n",
    "edges = []\n",
    "result = 0\n",
    "\n",
    "# 부모 테이블상에서, 부모를 자기 자신으로 초기화\n",
    "for i in range(1, v+1):\n",
    "    parent[i] = i\n",
    "    \n",
    "# 모든 간선에 대한 정보를 입력받기\n",
    "for _ in range(e):\n",
    "    a,b,cost = map(int, input().split())\n",
    "    # 비용순으로 정렬하기 위해서 튜플의 첫 번째 원소를 비용으로 설정\n",
    "    edges.append((cost, a, b))\n",
    "\n",
    "# 간선을 비용순으로 정렬\n",
    "edges.sort()\n",
    "\n",
    "#간선을 하나씩 확인하며\n",
    "for edge in edges:\n",
    "    cost, a, b = edge\n",
    "    #사이클이 발생하지 않는 경우에만 집합에 포함\n",
    "    if find_parent(parent, a) != find_parent(parent, b):\n",
    "        union_parent(parent, a, b)\n",
    "        result += cost\n",
    "        \n",
    "print(result)"
   ]
  },
  {
   "cell_type": "markdown",
   "id": "a2bf881d",
   "metadata": {},
   "source": [
    "### <위상 정렬>\n",
    "방향 그래프의 모든 노드를 '방향성에 거스르지 않도록 순서대로 나열하는 것'\n",
    "\n",
    "진입차수: 특정한 노드로 들어오는 간선의 개수\n",
    "\n",
    "1. 진입차수가 0인 노드를 큐에 넣는다.\n",
    "2. 큐가 빌 때까지 다음의 과정을 반복한다.\n",
    "    - 큐에서 원소를 꺼내 해당 노드에서 출발하는 간선을 그래프에서 제거한다.\n",
    "    - 새롭게 진입차수가 0이 된 노드를 큐에 넣는다.\n",
    "    \n",
    "이 때, 모든 원소를 방문하기 전에 큐가 빈다면 사이클이 존재한다고 판단하지만 위상 정렬 문제에서는 사이클이 발생하지 않는다고 명시하는 경우가 더 많음\n",
    "위상 정렬의 답안은 여러 가지가 될 수 있다는 점이 특징"
   ]
  },
  {
   "cell_type": "code",
   "execution_count": 8,
   "id": "e2d8666d",
   "metadata": {},
   "outputs": [
    {
     "name": "stdout",
     "output_type": "stream",
     "text": [
      "7 8\n",
      "1 2\n",
      "1 5\n",
      "2 3\n",
      "2 6\n",
      "3 4\n",
      "4 7\n",
      "5 6\n",
      "6 4\n",
      "1 2 5 3 6 4 7 "
     ]
    }
   ],
   "source": [
    "# 10-6.py 위상 정렬 소스코드\n",
    "from collections import deque\n",
    "\n",
    "# 노드의 개수와 간선의 개수를 입력받기\n",
    "v, e = map(int, input().split())\n",
    "# 모든 노드에 대한 진입차수는 0으로 초기화\n",
    "indegree = [0]*(v+1)\n",
    "# 각 노드에 연결된 간선 정보를 담기 위한 연결 리스트(그래프) 초기화\n",
    "graph = [[] for i in range(v+1)]\n",
    "\n",
    "# 방향 그래프의 모든 간선 정보를 입력받기\n",
    "for _ in range(e):\n",
    "    a,b = map(int, input().split())\n",
    "    graph[a].append(b) #정점 A에서 B로 이동 가능\n",
    "    #진입차수를 1 증가\n",
    "    indegree[b] +=1\n",
    "\n",
    "#위상 정렬 함수\n",
    "def topology_sort():\n",
    "    result = [] #알고리즘 수행 결과를 담을 리스트\n",
    "    q = deque()  #큐 기능을 위한 deque 라이브러리 사용\n",
    "\n",
    "    #처음 시작할 때는 진입차수가 0인 노드를 큐에 삽입\n",
    "    for i in range(1, v+1):\n",
    "        if indegree[i] == 0:\n",
    "            q.append(i)\n",
    "        \n",
    "    #큐가 빌 때까지 반복\n",
    "    while q:\n",
    "        #큐에서 원소 꺼내기\n",
    "        now=q.popleft()\n",
    "        result.append(now)\n",
    "        #해당 원소와 연결된 노드들의 진입차수에서 1빼기\n",
    "        for i in graph[now]:\n",
    "            indegree[i] -= 1\n",
    "            #새롭게 진입차수가 0이 되는 노드를 큐에 삽입\n",
    "            if indegree[i] == 0:\n",
    "                q.append(i)\n",
    "                \n",
    "    #위상 정렬을 수행한 결과 출력\n",
    "    for i in result:\n",
    "        print(i, end = ' ')\n",
    "        \n",
    "topology_sort()\n",
    "        "
   ]
  },
  {
   "cell_type": "markdown",
   "id": "3c06dbf5",
   "metadata": {},
   "source": [
    "### 예제 2) 팀 결성"
   ]
  },
  {
   "cell_type": "code",
   "execution_count": 13,
   "id": "6041be0a",
   "metadata": {},
   "outputs": [
    {
     "name": "stdout",
     "output_type": "stream",
     "text": [
      "7 8\n",
      "0 1 3\n",
      "1 1 7\n",
      "NO\n",
      "0 7 6\n",
      "1 7 1\n",
      "NO\n",
      "0 3 7\n",
      "0 4 2\n",
      "0 1 1\n",
      "1 1 1\n",
      "YES\n"
     ]
    }
   ],
   "source": [
    "# 10-3.py 개선된 서로소 집합 알고리즘 소스코드\n",
    "# 특정 원소가 속한 집합을 찾기\n",
    "def find_parent(parent, x):\n",
    "    #루트 노드가 아니라면, 루트 노드를 찾을 때까지 재귀적으로 호출\n",
    "    if parent[x] != x:\n",
    "        parent[x] = find_parent(parent, parent[x])\n",
    "    return parent[x]\n",
    "\n",
    "# 두 원소가 속한 집합을 합치기\n",
    "def union_parent(parent, a, b):\n",
    "    a = find_parent(parent, a)\n",
    "    b = find_parent(parent, b)\n",
    "    if a < b:\n",
    "        parent[b] = a\n",
    "    else:\n",
    "        parent[a] = b\n",
    "    \n",
    "# 노드의 개수와 간선(union 연산)의 개수 입력받기\n",
    "n, m = map(int, input().split())\n",
    "parent = [0]*(v+1) # 부모 테이블 초기화\n",
    "\n",
    "# 부모 테이블상에서, 부모를 자기 자신으로 초기화\n",
    "for i in range(1, n+1):\n",
    "    parent[i] = i\n",
    "\n",
    "# union 연산을 각각 수행\n",
    "for i in range(m):\n",
    "    k, a, b = map(int, input().split())\n",
    "    if k == 0:\n",
    "        union_parent(parent, a, b)\n",
    "    elif k == 1:\n",
    "        if find_parent(parent, a) == find_parent(parent,b):\n",
    "            print('YES')\n",
    "        else: \n",
    "            print('NO')\n",
    "\n",
    "    "
   ]
  },
  {
   "cell_type": "markdown",
   "id": "e479c4c7",
   "metadata": {},
   "source": [
    "피드백: elif 함수 사용"
   ]
  },
  {
   "cell_type": "markdown",
   "id": "f724a6fa",
   "metadata": {},
   "source": [
    "### 예제 3) 도시 분할 계획\n",
    "2개의 최소 신장 트리 만들기 <br>\n",
    "-> 2개로 나누는 방법: 크루스칼 알고리즘으로 최소 신장 트리 찾은 후 최소 신장 트리를 구성하는 간선 중 가장 비용이 큰 간선 제거하기"
   ]
  },
  {
   "cell_type": "code",
   "execution_count": 3,
   "id": "f8d9c4fc",
   "metadata": {},
   "outputs": [
    {
     "name": "stdout",
     "output_type": "stream",
     "text": [
      "7 12\n",
      "1 2 3\n",
      "1 3 2\n",
      "3 2 1\n",
      "2 5 2\n",
      "3 4 4\n",
      "7 3 6\n",
      "5 1 5\n",
      "1 6 2\n",
      "6 4 1\n",
      "6 5 3\n",
      "4 5 3\n",
      "6 7 4\n",
      "8\n"
     ]
    }
   ],
   "source": [
    "# 10-5.py 크루스칼 알고리즘 소스코드\n",
    "# 특정 원소가 속한 집합을 찾기\n",
    "def find_parent(parent, x):\n",
    "    #루트 노드가 아니라면, 루트 노드를 찾을 때까지 재귀적으로 호출\n",
    "    if parent[x] != x:\n",
    "        parent[x] = find_parent(parent, parent[x])\n",
    "    return parent[x]\n",
    "\n",
    "# 두 원소가 속한 집합을 합치기\n",
    "def union_parent(parent, a, b):\n",
    "    a = find_parent(parent, a)\n",
    "    b = find_parent(parent, b)\n",
    "    if a < b:\n",
    "        parent[b] = a\n",
    "    else:\n",
    "        parent[a] = b\n",
    "    \n",
    "# 노드의 개수와 간선(union 연산)의 개수 입력받기\n",
    "v, e = map(int, input().split())\n",
    "parent = [0]*(v+1) # 부모 테이블 초기화\n",
    "\n",
    "# 모든 간선을 담을 리스트와 최종 비용을 담을 변수\n",
    "edges = []\n",
    "result = 0\n",
    "\n",
    "# 부모 테이블상에서, 부모를 자기 자신으로 초기화\n",
    "for i in range(1, v+1):\n",
    "    parent[i] = i\n",
    "    \n",
    "# 모든 간선에 대한 정보를 입력받기\n",
    "for _ in range(e):\n",
    "    a,b,cost = map(int, input().split())\n",
    "    # 비용순으로 정렬하기 위해서 튜플의 첫 번째 원소를 비용으로 설정\n",
    "    edges.append((cost, a, b))\n",
    "\n",
    "# 간선을 비용순으로 정렬\n",
    "edges.sort()\n",
    "last = 0 \n",
    "\n",
    "#간선을 하나씩 확인하며\n",
    "for edge in edges:\n",
    "    cost, a, b = edge\n",
    "    #사이클이 발생하지 않는 경우에만 집합에 포함\n",
    "    if find_parent(parent, a) != find_parent(parent, b):\n",
    "        union_parent(parent, a, b)\n",
    "        result += cost\n",
    "        last = cost #마지막에 포함된 간선의 비용\n",
    "        \n",
    "print(result- last)"
   ]
  },
  {
   "cell_type": "markdown",
   "id": "e73f28ae",
   "metadata": {},
   "source": [
    "피드백: 마지막에 포함된 간선의 비용이 가장 크기 때문에 그걸 제거해주기<br>\n",
    "단순히 처음 간선의 비용(cost)를 빼주게 되면 사이클이 생기는 경우 집합에 포함이 안되기 때문에, <br>\n",
    "집합에 포함이 된 비용들에서 가장 큰 걸 구해야함"
   ]
  },
  {
   "cell_type": "markdown",
   "id": "091c2bee",
   "metadata": {},
   "source": [
    "### 예제 4) 커리큘럼"
   ]
  },
  {
   "cell_type": "code",
   "execution_count": 2,
   "id": "58ea2438",
   "metadata": {},
   "outputs": [
    {
     "name": "stdout",
     "output_type": "stream",
     "text": [
      "5\n",
      "10 -1\n",
      "10 1 -1\n",
      "4 1 -1\n",
      "4 3 1 -1\n",
      "3 3 -1\n",
      "10\n",
      "20\n",
      "14\n",
      "18\n",
      "17\n"
     ]
    }
   ],
   "source": [
    "from collections import deque\n",
    "import copy\n",
    "\n",
    "#노드의 개수 입력받기\n",
    "v = int(input())\n",
    "#모든 노드에 대한 진입차수는 0으로 초기화\n",
    "indegree = [0]*(v+1)\n",
    "#각 노드에 연결된 간선 정보를 담기 위한 연결 리스트(그래프)초기화\n",
    "graph =[[] for i in range(v+1)]\n",
    "#각 강의 시간을 0으로 초기화\n",
    "time = [0]*(v+1)\n",
    "\n",
    "# 방향 그래프의 모든 간선 정보를 입력받기\n",
    "for i in range(1, v+1):\n",
    "    data = list(map(int, input().split()))\n",
    "    time[i] = data[0] # 첫 번째 수는 시간 정보를 담고있음\n",
    "    for x in data[1:-1]: # 각 줄의 맨 마지막 -1을 제거한다는 의미\n",
    "        indegree[i] +=1\n",
    "        graph[x].append(i)\n",
    "\n",
    "#위상 정렬 함수\n",
    "def topology_sort():\n",
    "    result = copy.deepcopy(time) #알고리즘 수행 결과를 담을 리스트\n",
    "    q = deque() #큐 기능을 위한 deque 라이브러리 사용\n",
    "    \n",
    "    #처음 시작할 때는 진입차수가 0인 노드를 큐에 삽입\n",
    "    for i in range(1,v+1):\n",
    "        if indegree[i] == 0:\n",
    "            q.append(i)\n",
    "    \n",
    "    #큐가 빌 때까지 반복\n",
    "    while q:\n",
    "        #큐에서 원소 꺼내기\n",
    "        now=q.popleft()\n",
    "        #해당 원소와 연결된 노드들의 진입차수에서 1빼기\n",
    "        for i in graph[now]:\n",
    "            result[i] = max(result[i], result[now]+time[i])\n",
    "            indegree[i] -=1\n",
    "            #새롭게 진입차수가 0이 되는 노드를 큐에 삽입\n",
    "            if indegree[i] == 0:\n",
    "                q.append(i)\n",
    "        \n",
    "    #위상 정렬을 수행한 결과 출력\n",
    "    for i in range(1, v+1):\n",
    "        print(result[i])\n",
    "\n",
    "topology_sort()"
   ]
  },
  {
   "cell_type": "code",
   "execution_count": null,
   "id": "4796f425",
   "metadata": {},
   "outputs": [],
   "source": []
  },
  {
   "cell_type": "code",
   "execution_count": null,
   "id": "c6157d56",
   "metadata": {},
   "outputs": [],
   "source": []
  }
 ],
 "metadata": {
  "kernelspec": {
   "display_name": "Python 3",
   "language": "python",
   "name": "python3"
  },
  "language_info": {
   "codemirror_mode": {
    "name": "ipython",
    "version": 3
   },
   "file_extension": ".py",
   "mimetype": "text/x-python",
   "name": "python",
   "nbconvert_exporter": "python",
   "pygments_lexer": "ipython3",
   "version": "3.8.8"
  }
 },
 "nbformat": 4,
 "nbformat_minor": 5
}
